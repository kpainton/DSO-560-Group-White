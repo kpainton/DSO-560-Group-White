{
 "cells": [
  {
   "cell_type": "code",
   "execution_count": 226,
   "metadata": {
    "ExecuteTime": {
     "end_time": "2021-12-17T05:53:12.115302Z",
     "start_time": "2021-12-17T05:53:11.247780Z"
    }
   },
   "outputs": [],
   "source": [
    "import numpy as np\n",
    "import pandas as pd\n",
    "import matplotlib.pyplot as plt\n",
    "import seaborn as sns\n",
    "\n",
    "import en_core_web_md\n",
    "import spacy\n",
    "\n",
    "from keras.preprocessing.text import Tokenizer\n",
    "from typing import List\n",
    "from keras.preprocessing.text import text_to_word_sequence\n",
    "from keras.preprocessing.sequence import pad_sequences\n",
    "\n",
    "from tensorflow.keras.utils import to_categorical\n",
    "from sklearn.preprocessing import LabelEncoder\n",
    "\n",
    "from random import randint\n",
    "from numpy import array, argmax, asarray, zeros\n",
    "from keras.models import Sequential\n",
    "from keras.layers import Dense\n",
    "from keras.layers import Embedding\n",
    "\n",
    "from nltk import word_tokenize\n",
    "from gensim.models import Word2Vec\n",
    "\n",
    "from keras.layers.recurrent import SimpleRNN, LSTM\n",
    "from keras.layers import Flatten, Masking\n",
    "from sklearn.metrics import confusion_matrix\n",
    "from sklearn.metrics import classification_report\n",
    "from sklearn.metrics import roc_auc_score"
   ]
  },
  {
   "cell_type": "code",
   "execution_count": 15,
   "metadata": {
    "ExecuteTime": {
     "end_time": "2021-12-15T23:56:38.838785Z",
     "start_time": "2021-12-15T23:56:37.866926Z"
    }
   },
   "outputs": [],
   "source": [
    "movie = pd.read_csv(\"Sampled 64k rows.csv\", index_col = 0)"
   ]
  },
  {
   "cell_type": "code",
   "execution_count": 16,
   "metadata": {
    "ExecuteTime": {
     "end_time": "2021-12-15T23:56:39.410887Z",
     "start_time": "2021-12-15T23:56:39.398507Z"
    }
   },
   "outputs": [
    {
     "data": {
      "text/html": [
       "<div>\n",
       "<style scoped>\n",
       "    .dataframe tbody tr th:only-of-type {\n",
       "        vertical-align: middle;\n",
       "    }\n",
       "\n",
       "    .dataframe tbody tr th {\n",
       "        vertical-align: top;\n",
       "    }\n",
       "\n",
       "    .dataframe thead th {\n",
       "        text-align: right;\n",
       "    }\n",
       "</style>\n",
       "<table border=\"1\" class=\"dataframe\">\n",
       "  <thead>\n",
       "    <tr style=\"text-align: right;\">\n",
       "      <th></th>\n",
       "      <th>id number</th>\n",
       "      <th>original title</th>\n",
       "      <th>director/creator</th>\n",
       "      <th>movie lenght</th>\n",
       "      <th>review title</th>\n",
       "      <th>review</th>\n",
       "      <th>label</th>\n",
       "      <th>mean of stars</th>\n",
       "      <th>number of reviews</th>\n",
       "      <th>full reviews average stars</th>\n",
       "      <th>category</th>\n",
       "    </tr>\n",
       "  </thead>\n",
       "  <tbody>\n",
       "    <tr>\n",
       "      <th>310028</th>\n",
       "      <td>310028</td>\n",
       "      <td>Cupid</td>\n",
       "      <td>Rob Thomas</td>\n",
       "      <td>1 hour</td>\n",
       "      <td>One of the most charming and fun shows you ne...</td>\n",
       "      <td>A unique take on a contemporary romantic comed...</td>\n",
       "      <td>10</td>\n",
       "      <td>9.54</td>\n",
       "      <td>13</td>\n",
       "      <td>7.8</td>\n",
       "      <td>Comedy</td>\n",
       "    </tr>\n",
       "    <tr>\n",
       "      <th>39795</th>\n",
       "      <td>39795</td>\n",
       "      <td>The Lawnmower Man</td>\n",
       "      <td>Brett Leonard</td>\n",
       "      <td>1 hour 48 minutes</td>\n",
       "      <td>does it have to end in evil?</td>\n",
       "      <td>Technology should be exciting, and upbeating. ...</td>\n",
       "      <td>6</td>\n",
       "      <td>6.06</td>\n",
       "      <td>109</td>\n",
       "      <td>5.4</td>\n",
       "      <td>Horror</td>\n",
       "    </tr>\n",
       "    <tr>\n",
       "      <th>181506</th>\n",
       "      <td>181506</td>\n",
       "      <td>The Lost World: Jurassic Park</td>\n",
       "      <td>Steven Spielberg</td>\n",
       "      <td>2 hours 9 minutes</td>\n",
       "      <td>Two Rexes for Part Two</td>\n",
       "      <td>It's the sequel, so how can we manufacture a w...</td>\n",
       "      <td>7</td>\n",
       "      <td>5.55</td>\n",
       "      <td>245</td>\n",
       "      <td>6.6</td>\n",
       "      <td>Action</td>\n",
       "    </tr>\n",
       "    <tr>\n",
       "      <th>43938</th>\n",
       "      <td>43938</td>\n",
       "      <td>Radio Flyer</td>\n",
       "      <td>Richard Donner</td>\n",
       "      <td>1 hour 54 minutes</td>\n",
       "      <td>i love this movie</td>\n",
       "      <td>I love all Joseph Mazello's Movie.. watch also...</td>\n",
       "      <td>10</td>\n",
       "      <td>8.20</td>\n",
       "      <td>50</td>\n",
       "      <td>7.0</td>\n",
       "      <td>Drama</td>\n",
       "    </tr>\n",
       "    <tr>\n",
       "      <th>183406</th>\n",
       "      <td>183406</td>\n",
       "      <td>Les Misérables</td>\n",
       "      <td>Bille August</td>\n",
       "      <td>2 hours 14 minutes</td>\n",
       "      <td>If you can't do something right, don't do it ...</td>\n",
       "      <td>It's not possible to watch this film objective...</td>\n",
       "      <td>2</td>\n",
       "      <td>6.54</td>\n",
       "      <td>143</td>\n",
       "      <td>7.4</td>\n",
       "      <td>Crime</td>\n",
       "    </tr>\n",
       "  </tbody>\n",
       "</table>\n",
       "</div>"
      ],
      "text/plain": [
       "        id number                 original title  director/creator  \\\n",
       "310028     310028                          Cupid        Rob Thomas   \n",
       "39795       39795              The Lawnmower Man     Brett Leonard   \n",
       "181506     181506  The Lost World: Jurassic Park  Steven Spielberg   \n",
       "43938       43938                    Radio Flyer    Richard Donner   \n",
       "183406     183406                 Les Misérables      Bille August   \n",
       "\n",
       "              movie lenght                                       review title  \\\n",
       "310028              1 hour   One of the most charming and fun shows you ne...   \n",
       "39795    1 hour 48 minutes                      does it have to end in evil?    \n",
       "181506   2 hours 9 minutes                            Two Rexes for Part Two    \n",
       "43938    1 hour 54 minutes                                 i love this movie    \n",
       "183406  2 hours 14 minutes   If you can't do something right, don't do it ...   \n",
       "\n",
       "                                                   review  label  \\\n",
       "310028  A unique take on a contemporary romantic comed...     10   \n",
       "39795   Technology should be exciting, and upbeating. ...      6   \n",
       "181506  It's the sequel, so how can we manufacture a w...      7   \n",
       "43938   I love all Joseph Mazello's Movie.. watch also...     10   \n",
       "183406  It's not possible to watch this film objective...      2   \n",
       "\n",
       "        mean of stars  number of reviews  full reviews average stars category  \n",
       "310028           9.54                 13                         7.8   Comedy  \n",
       "39795            6.06                109                         5.4   Horror  \n",
       "181506           5.55                245                         6.6   Action  \n",
       "43938            8.20                 50                         7.0    Drama  \n",
       "183406           6.54                143                         7.4    Crime  "
      ]
     },
     "execution_count": 16,
     "metadata": {},
     "output_type": "execute_result"
    }
   ],
   "source": [
    "movie.head()"
   ]
  },
  {
   "cell_type": "code",
   "execution_count": 17,
   "metadata": {
    "ExecuteTime": {
     "end_time": "2021-12-15T23:56:40.198882Z",
     "start_time": "2021-12-15T23:56:40.195424Z"
    }
   },
   "outputs": [
    {
     "data": {
      "text/plain": [
       "(64149, 11)"
      ]
     },
     "execution_count": 17,
     "metadata": {},
     "output_type": "execute_result"
    }
   ],
   "source": [
    "movie.shape"
   ]
  },
  {
   "cell_type": "code",
   "execution_count": 18,
   "metadata": {
    "ExecuteTime": {
     "end_time": "2021-12-15T23:56:41.061231Z",
     "start_time": "2021-12-15T23:56:40.827241Z"
    }
   },
   "outputs": [
    {
     "data": {
      "text/plain": [
       "<matplotlib.axes._subplots.AxesSubplot at 0x7feeb89b9df0>"
      ]
     },
     "execution_count": 18,
     "metadata": {},
     "output_type": "execute_result"
    },
    {
     "data": {
      "image/png": "[encoded data removed]",
      "text/plain": [
       "<Figure size 1080x720 with 1 Axes>"
      ]
     },
     "metadata": {
      "needs_background": "light"
     },
     "output_type": "display_data"
    }
   ],
   "source": [
    "plt.figure(figsize = (15,10))\n",
    "\n",
    "movie['category'].value_counts().plot(kind = \"bar\")"
   ]
  },
  {
   "cell_type": "code",
   "execution_count": 19,
   "metadata": {
    "ExecuteTime": {
     "end_time": "2021-12-15T23:56:41.285585Z",
     "start_time": "2021-12-15T23:56:41.277763Z"
    }
   },
   "outputs": [
    {
     "data": {
      "text/plain": [
       "array(['Comedy', 'Horror', 'Action', 'Drama', 'Crime', 'Biography',\n",
       "       'Adventure', 'Animation', 'Mystery', 'Thriller', 'Fantasy',\n",
       "       'Sci-Fi', 'Documentary', 'Short', 'Family', 'Adult', 'Talk-Show',\n",
       "       'Romance', 'Game-Show', 'Musical', 'Western', 'Music', 'History',\n",
       "       'Reality-TV', 'News', 'War', 'Sport'], dtype=object)"
      ]
     },
     "execution_count": 19,
     "metadata": {},
     "output_type": "execute_result"
    }
   ],
   "source": [
    "movie['category'].unique()"
   ]
  },
  {
   "cell_type": "code",
   "execution_count": 22,
   "metadata": {
    "ExecuteTime": {
     "end_time": "2021-12-15T23:56:52.622675Z",
     "start_time": "2021-12-15T23:56:52.567347Z"
    }
   },
   "outputs": [
    {
     "name": "stderr",
     "output_type": "stream",
     "text": [
      "<ipython-input-22-c252fb4e4119>:1: FutureWarning: The default value of regex will change from True to False in a future version.\n",
      "  movie['category'] = movie['category'].str.replace(r'Horror|Biography|Adventure|Mystery|Thriller|Fantasy|Sci-Fi|Documentary|\\\n"
     ]
    }
   ],
   "source": [
    "movie['category'] = movie['category'].str.replace(r'Horror|Biography|Adventure|Mystery|Thriller|Fantasy|Sci-Fi|Documentary|\\\n",
    "                                                    Documentary|Short|Family|Adult|Talk-Show|Romance|Game-Show|\\\n",
    "                                                    Musical|Western|Music|History|Reality-TV|News|War|Sport|Othersal', \"Others\")\n"
   ]
  },
  {
   "cell_type": "code",
   "execution_count": 23,
   "metadata": {
    "ExecuteTime": {
     "end_time": "2021-12-15T23:56:53.159784Z",
     "start_time": "2021-12-15T23:56:53.152542Z"
    }
   },
   "outputs": [
    {
     "data": {
      "text/plain": [
       "array(['Comedy', 'Others', 'Action', 'Drama', 'Crime', 'Animation'],\n",
       "      dtype=object)"
      ]
     },
     "execution_count": 23,
     "metadata": {},
     "output_type": "execute_result"
    }
   ],
   "source": [
    "movie['category'].unique()"
   ]
  },
  {
   "cell_type": "code",
   "execution_count": 230,
   "metadata": {
    "ExecuteTime": {
     "end_time": "2021-12-17T05:54:41.037447Z",
     "start_time": "2021-12-17T05:54:40.999607Z"
    }
   },
   "outputs": [
    {
     "data": {
      "text/html": [
       "<div>\n",
       "<style scoped>\n",
       "    .dataframe tbody tr th:only-of-type {\n",
       "        vertical-align: middle;\n",
       "    }\n",
       "\n",
       "    .dataframe tbody tr th {\n",
       "        vertical-align: top;\n",
       "    }\n",
       "\n",
       "    .dataframe thead th {\n",
       "        text-align: right;\n",
       "    }\n",
       "</style>\n",
       "<table border=\"1\" class=\"dataframe\">\n",
       "  <thead>\n",
       "    <tr style=\"text-align: right;\">\n",
       "      <th></th>\n",
       "      <th>category</th>\n",
       "      <th>No. of records</th>\n",
       "    </tr>\n",
       "  </thead>\n",
       "  <tbody>\n",
       "    <tr>\n",
       "      <th>0</th>\n",
       "      <td>Comedy</td>\n",
       "      <td>16006</td>\n",
       "    </tr>\n",
       "    <tr>\n",
       "      <th>1</th>\n",
       "      <td>Action</td>\n",
       "      <td>14051</td>\n",
       "    </tr>\n",
       "    <tr>\n",
       "      <th>2</th>\n",
       "      <td>Drama</td>\n",
       "      <td>12624</td>\n",
       "    </tr>\n",
       "    <tr>\n",
       "      <th>3</th>\n",
       "      <td>Others</td>\n",
       "      <td>12288</td>\n",
       "    </tr>\n",
       "    <tr>\n",
       "      <th>4</th>\n",
       "      <td>Crime</td>\n",
       "      <td>5236</td>\n",
       "    </tr>\n",
       "    <tr>\n",
       "      <th>5</th>\n",
       "      <td>Animation</td>\n",
       "      <td>3944</td>\n",
       "    </tr>\n",
       "  </tbody>\n",
       "</table>\n",
       "</div>"
      ],
      "text/plain": [
       "    category  No. of records\n",
       "0     Comedy           16006\n",
       "1     Action           14051\n",
       "2      Drama           12624\n",
       "3     Others           12288\n",
       "4      Crime            5236\n",
       "5  Animation            3944"
      ]
     },
     "execution_count": 230,
     "metadata": {},
     "output_type": "execute_result"
    }
   ],
   "source": [
    "cat_df = pd.DataFrame(movie['category'].value_counts().reset_index()).rename(columns={\"index\":\"category\", \"category\":\"No. of records\"})\n",
    "cat_df"
   ]
  },
  {
   "cell_type": "code",
   "execution_count": 206,
   "metadata": {
    "ExecuteTime": {
     "end_time": "2021-12-17T02:42:38.713194Z",
     "start_time": "2021-12-17T02:42:37.855182Z"
    }
   },
   "outputs": [
    {
     "data": {
      "text/plain": [
       "<matplotlib.axes._subplots.AxesSubplot at 0x7feae06c60a0>"
      ]
     },
     "execution_count": 206,
     "metadata": {},
     "output_type": "execute_result"
    },
    {
     "data": {
      "image/png": "[encoded data removed]",
      "text/plain": [
       "<Figure size 432x288 with 1 Axes>"
      ]
     },
     "metadata": {
      "needs_background": "light"
     },
     "output_type": "display_data"
    }
   ],
   "source": [
    "movie['category'].value_counts().plot(kind = \"bar\")"
   ]
  },
  {
   "cell_type": "code",
   "execution_count": 239,
   "metadata": {
    "ExecuteTime": {
     "end_time": "2021-12-17T06:03:11.647266Z",
     "start_time": "2021-12-17T06:03:11.263085Z"
    }
   },
   "outputs": [
    {
     "data": {
      "image/png": "[encoded data removed]",
      "text/plain": [
       "<Figure size 432x288 with 1 Axes>"
      ]
     },
     "metadata": {
      "needs_background": "light"
     },
     "output_type": "display_data"
    }
   ],
   "source": [
    "sns.barplot(data = cat_df, x=\"category\", y = \"No. of records\")\n",
    "plt.ylabel(\"No. of records\", size=12)\n",
    "plt.xlabel(\"Categories\", size=12)\n",
    "plt.title(\"Genre Overview\")\n",
    "\n",
    "plt.savefig(\"Genra Overview.png\", bbox_inches = \"tight\")"
   ]
  },
  {
   "cell_type": "code",
   "execution_count": 241,
   "metadata": {
    "ExecuteTime": {
     "end_time": "2021-12-17T06:13:23.929051Z",
     "start_time": "2021-12-17T06:13:23.862574Z"
    }
   },
   "outputs": [
    {
     "data": {
      "text/plain": [
       "category\n",
       "Action       6.113800\n",
       "Animation    7.004564\n",
       "Comedy       6.757966\n",
       "Crime        6.607716\n",
       "Drama        6.868821\n",
       "Others       6.458822\n",
       "Name: label, dtype: float64"
      ]
     },
     "execution_count": 241,
     "metadata": {},
     "output_type": "execute_result"
    }
   ],
   "source": [
    "movie.groupby(\"category\")['label'].mean()"
   ]
  },
  {
   "cell_type": "markdown",
   "metadata": {
    "heading_collapsed": true
   },
   "source": [
    "## Word Count"
   ]
  },
  {
   "cell_type": "code",
   "execution_count": 24,
   "metadata": {
    "ExecuteTime": {
     "end_time": "2021-12-15T23:56:59.528930Z",
     "start_time": "2021-12-15T23:56:58.105207Z"
    },
    "hidden": true
   },
   "outputs": [],
   "source": [
    "import re\n",
    "import nltk\n",
    "import spacy\n",
    "\n",
    "nlp = spacy.load('en_core_web_md',disable=['ner', 'parser'])"
   ]
  },
  {
   "cell_type": "code",
   "execution_count": 25,
   "metadata": {
    "ExecuteTime": {
     "end_time": "2021-12-15T23:57:00.531021Z",
     "start_time": "2021-12-15T23:57:00.526086Z"
    },
    "hidden": true
   },
   "outputs": [],
   "source": [
    "# define remove stopword function\n",
    "def remove_stopwords(PandaSeries, stopword_list):\n",
    "    review_list = []\n",
    "    for review in PandaSeries:\n",
    "        review = re.sub(r'(\\\"|\\;|\\\\|\\.|\\,|\\\\|\\`|\\/|\\#|\\&|\\(|\\)|\\n|\\:|\\-|\\d|\\<br \\>|\\$|\\_|\\>|\\<|\\bbr\\b)', '', review)\n",
    "        word_list = nltk.word_tokenize(review)\n",
    "        new_word_list = []\n",
    "        for word in word_list:\n",
    "            if word.lower() not in set(stopword_list):\n",
    "                new_word_list.append(word.lower())\n",
    "        stopword_free = \" \".join(new_word_list)\n",
    "        \n",
    "        review_list.append(stopword_free)\n",
    "    return review_list"
   ]
  },
  {
   "cell_type": "code",
   "execution_count": 26,
   "metadata": {
    "ExecuteTime": {
     "end_time": "2021-12-15T23:57:05.964220Z",
     "start_time": "2021-12-15T23:57:05.958272Z"
    },
    "hidden": true
   },
   "outputs": [],
   "source": [
    "from nltk.corpus import stopwords\n",
    "stopdict = stopwords.words('english')"
   ]
  },
  {
   "cell_type": "code",
   "execution_count": 28,
   "metadata": {
    "ExecuteTime": {
     "end_time": "2021-12-15T23:59:27.631416Z",
     "start_time": "2021-12-15T23:57:53.359204Z"
    },
    "hidden": true
   },
   "outputs": [],
   "source": [
    "reviews_cleaned = remove_stopwords(movie['review'], stopdict)"
   ]
  },
  {
   "cell_type": "code",
   "execution_count": 39,
   "metadata": {
    "ExecuteTime": {
     "end_time": "2021-12-16T00:08:12.507120Z",
     "start_time": "2021-12-16T00:08:11.391117Z"
    },
    "hidden": true
   },
   "outputs": [],
   "source": [
    "reviews_cleaned = [re.sub('[^\\w\\s]','',x) for x in reviews_cleaned]\n",
    "    "
   ]
  },
  {
   "cell_type": "code",
   "execution_count": 40,
   "metadata": {
    "ExecuteTime": {
     "end_time": "2021-12-16T00:08:53.330341Z",
     "start_time": "2021-12-16T00:08:17.890206Z"
    },
    "hidden": true
   },
   "outputs": [
    {
     "name": "stderr",
     "output_type": "stream",
     "text": [
      "100%|██████████| 64149/64149 [00:35<00:00, 1819.57it/s]\n"
     ]
    }
   ],
   "source": [
    "from tqdm import tqdm\n",
    "# word list\n",
    "new_word_list = []\n",
    "\n",
    "for review in tqdm(reviews_cleaned):\n",
    "    word_list = nltk.word_tokenize(review)\n",
    "    for word in word_list:\n",
    "        new_word_list.append(word)"
   ]
  },
  {
   "cell_type": "code",
   "execution_count": 41,
   "metadata": {
    "ExecuteTime": {
     "end_time": "2021-12-16T00:09:39.558118Z",
     "start_time": "2021-12-16T00:09:37.868398Z"
    },
    "hidden": true
   },
   "outputs": [
    {
     "data": {
      "text/plain": [
       "[('s', 157621),\n",
       " ('movie', 99787),\n",
       " ('film', 90228),\n",
       " ('nt', 75964),\n",
       " ('one', 61755),\n",
       " ('like', 46562),\n",
       " ('good', 40152),\n",
       " ('story', 29547),\n",
       " ('really', 28400),\n",
       " ('would', 28350),\n",
       " ('time', 27681),\n",
       " ('great', 26324),\n",
       " ('even', 26119),\n",
       " ('well', 25263),\n",
       " ('also', 25065),\n",
       " ('much', 24499),\n",
       " ('see', 24099),\n",
       " ('first', 21041),\n",
       " ('get', 20947),\n",
       " ('people', 19773),\n",
       " ('could', 19653),\n",
       " ('character', 19082),\n",
       " ('characters', 18887),\n",
       " ('way', 18300),\n",
       " ('movies', 17705),\n",
       " ('best', 17420),\n",
       " ('love', 17269),\n",
       " ('made', 17179),\n",
       " ('make', 17050),\n",
       " ('bad', 17002),\n",
       " ('two', 16812),\n",
       " ('watch', 16430),\n",
       " ('many', 16397),\n",
       " ('think', 16191),\n",
       " ('life', 15550),\n",
       " ('little', 15263),\n",
       " ('films', 15199),\n",
       " ('never', 14835),\n",
       " ('still', 14744),\n",
       " ('plot', 14096),\n",
       " ('better', 13784),\n",
       " ('know', 13712),\n",
       " ('seen', 13373),\n",
       " ('show', 13279),\n",
       " ('action', 13009),\n",
       " ('man', 12971),\n",
       " ('acting', 12754),\n",
       " ('scenes', 12646),\n",
       " ('end', 12595),\n",
       " ('say', 11715),\n",
       " ('back', 11561),\n",
       " ('scene', 11536),\n",
       " ('ever', 11448),\n",
       " ('lot', 11232),\n",
       " ('something', 11107),\n",
       " ('though', 11095),\n",
       " ('go', 10858),\n",
       " ('years', 10825),\n",
       " ('ve', 10671),\n",
       " ('makes', 10638),\n",
       " ('new', 10637),\n",
       " ('funny', 10624),\n",
       " ('real', 10453),\n",
       " ('cast', 10389),\n",
       " ('another', 10141),\n",
       " ('find', 9898),\n",
       " ('quite', 9765),\n",
       " ('thing', 9698),\n",
       " ('work', 9664),\n",
       " ('watching', 9660),\n",
       " ('m', 9659),\n",
       " ('pretty', 9472),\n",
       " ('things', 9455),\n",
       " ('part', 9329),\n",
       " ('series', 9241),\n",
       " ('actually', 9186),\n",
       " ('going', 9144),\n",
       " ('actors', 9031),\n",
       " ('every', 8962),\n",
       " ('world', 8863),\n",
       " ('fun', 8806),\n",
       " ('us', 8761),\n",
       " ('always', 8761),\n",
       " ('bit', 8741),\n",
       " ('look', 8724),\n",
       " ('enough', 8623),\n",
       " ('director', 8608),\n",
       " ('comedy', 8594),\n",
       " ('old', 8544),\n",
       " ('role', 8345),\n",
       " ('take', 8335),\n",
       " ('however', 8286),\n",
       " ('young', 8233),\n",
       " ('original', 8212),\n",
       " ('got', 8180),\n",
       " ('re', 8179),\n",
       " ('interesting', 8179),\n",
       " ('nothing', 8174),\n",
       " ('big', 8071),\n",
       " ('seems', 7992)]"
      ]
     },
     "execution_count": 41,
     "metadata": {},
     "output_type": "execute_result"
    }
   ],
   "source": [
    "from collections import Counter\n",
    "\n",
    "movie_counter = Counter(new_word_list)\n",
    "movie_counter.most_common(100)"
   ]
  },
  {
   "cell_type": "code",
   "execution_count": 42,
   "metadata": {
    "ExecuteTime": {
     "end_time": "2021-12-16T00:09:48.001993Z",
     "start_time": "2021-12-16T00:09:47.859802Z"
    },
    "hidden": true
   },
   "outputs": [],
   "source": [
    "word_df = pd.DataFrame.from_dict(movie_counter, orient='index').reset_index()"
   ]
  },
  {
   "cell_type": "code",
   "execution_count": 43,
   "metadata": {
    "ExecuteTime": {
     "end_time": "2021-12-16T00:09:50.650823Z",
     "start_time": "2021-12-16T00:09:50.592001Z"
    },
    "hidden": true
   },
   "outputs": [],
   "source": [
    "word_df = word_df.rename(columns = {\"index\":\"word\",0:\"count\"}).sort_values(by = \"count\", ascending = False)"
   ]
  },
  {
   "cell_type": "code",
   "execution_count": 44,
   "metadata": {
    "ExecuteTime": {
     "end_time": "2021-12-16T00:09:53.080364Z",
     "start_time": "2021-12-16T00:09:53.069059Z"
    },
    "hidden": true
   },
   "outputs": [
    {
     "data": {
      "text/html": [
       "<div>\n",
       "<style scoped>\n",
       "    .dataframe tbody tr th:only-of-type {\n",
       "        vertical-align: middle;\n",
       "    }\n",
       "\n",
       "    .dataframe tbody tr th {\n",
       "        vertical-align: top;\n",
       "    }\n",
       "\n",
       "    .dataframe thead th {\n",
       "        text-align: right;\n",
       "    }\n",
       "</style>\n",
       "<table border=\"1\" class=\"dataframe\">\n",
       "  <thead>\n",
       "    <tr style=\"text-align: right;\">\n",
       "      <th></th>\n",
       "      <th>word</th>\n",
       "      <th>count</th>\n",
       "    </tr>\n",
       "  </thead>\n",
       "  <tbody>\n",
       "    <tr>\n",
       "      <th>44</th>\n",
       "      <td>s</td>\n",
       "      <td>157621</td>\n",
       "    </tr>\n",
       "    <tr>\n",
       "      <th>42</th>\n",
       "      <td>movie</td>\n",
       "      <td>99787</td>\n",
       "    </tr>\n",
       "    <tr>\n",
       "      <th>237</th>\n",
       "      <td>film</td>\n",
       "      <td>90228</td>\n",
       "    </tr>\n",
       "    <tr>\n",
       "      <th>61</th>\n",
       "      <td>nt</td>\n",
       "      <td>75964</td>\n",
       "    </tr>\n",
       "    <tr>\n",
       "      <th>29</th>\n",
       "      <td>one</td>\n",
       "      <td>61755</td>\n",
       "    </tr>\n",
       "  </tbody>\n",
       "</table>\n",
       "</div>"
      ],
      "text/plain": [
       "      word   count\n",
       "44       s  157621\n",
       "42   movie   99787\n",
       "237   film   90228\n",
       "61      nt   75964\n",
       "29     one   61755"
      ]
     },
     "execution_count": 44,
     "metadata": {},
     "output_type": "execute_result"
    }
   ],
   "source": [
    "word_df.head()"
   ]
  },
  {
   "cell_type": "code",
   "execution_count": 45,
   "metadata": {
    "ExecuteTime": {
     "end_time": "2021-12-16T00:09:55.510951Z",
     "start_time": "2021-12-16T00:09:55.506276Z"
    },
    "hidden": true
   },
   "outputs": [
    {
     "data": {
      "text/plain": [
       "229230"
      ]
     },
     "execution_count": 45,
     "metadata": {},
     "output_type": "execute_result"
    }
   ],
   "source": [
    "len(word_df)"
   ]
  },
  {
   "cell_type": "markdown",
   "metadata": {},
   "source": [
    "## Preprocessing"
   ]
  },
  {
   "cell_type": "markdown",
   "metadata": {},
   "source": [
    "### Reviews"
   ]
  },
  {
   "cell_type": "code",
   "execution_count": 89,
   "metadata": {
    "ExecuteTime": {
     "end_time": "2021-12-11T07:27:08.613820Z",
     "start_time": "2021-12-11T07:27:03.101076Z"
    }
   },
   "outputs": [],
   "source": [
    "nlp = en_core_web_md.load(disable=['ner', 'parser'])"
   ]
  },
  {
   "cell_type": "code",
   "execution_count": 46,
   "metadata": {
    "ExecuteTime": {
     "end_time": "2021-12-16T00:10:44.042831Z",
     "start_time": "2021-12-16T00:10:43.518860Z"
    }
   },
   "outputs": [],
   "source": [
    "reviews = movie['review']"
   ]
  },
  {
   "cell_type": "code",
   "execution_count": 47,
   "metadata": {
    "ExecuteTime": {
     "end_time": "2021-12-16T00:49:15.634390Z",
     "start_time": "2021-12-16T00:32:43.810815Z"
    }
   },
   "outputs": [],
   "source": [
    "stopwords_removed_reviews = list(\n",
    "    map(lambda review: \" \".join([token.text for token in nlp(review) if not token.is_stop]), reviews))"
   ]
  },
  {
   "cell_type": "code",
   "execution_count": 48,
   "metadata": {
    "ExecuteTime": {
     "end_time": "2021-12-16T01:03:03.917602Z",
     "start_time": "2021-12-16T01:02:54.291438Z"
    }
   },
   "outputs": [],
   "source": [
    "## Tokenize reviews\n",
    "tokenizer = Tokenizer(num_words=5000, oov_token=\"UNKNOWN_TOKEN\")\n",
    "tokenizer.fit_on_texts(stopwords_removed_reviews)"
   ]
  },
  {
   "cell_type": "code",
   "execution_count": 49,
   "metadata": {
    "ExecuteTime": {
     "end_time": "2021-12-16T01:03:25.488877Z",
     "start_time": "2021-12-16T01:03:18.409845Z"
    }
   },
   "outputs": [],
   "source": [
    "def integer_encode_documents(docs: List[str], tokenizer: Tokenizer)-> List[List[int]]:\n",
    "    documents = []\n",
    "    for d in docs:\n",
    "        doc_integers = []\n",
    "        for i in text_to_word_sequence(d):\n",
    "            doc_integers.append(tokenizer.word_index[i])\n",
    "        documents.append(doc_integers)\n",
    "    return documents\n",
    "\n",
    "# integer encode the documents\n",
    "encoded_reviews = integer_encode_documents(stopwords_removed_reviews, tokenizer)"
   ]
  },
  {
   "cell_type": "code",
   "execution_count": 51,
   "metadata": {
    "ExecuteTime": {
     "end_time": "2021-12-16T01:03:55.783250Z",
     "start_time": "2021-12-16T01:03:50.414317Z"
    }
   },
   "outputs": [],
   "source": [
    "def get_max_token_length_per_doc(docs: List[List[str]])-> int:\n",
    "    return max(list(map(lambda doc: len(doc), tokenizer.texts_to_sequences(docs))))\n",
    "\n",
    "MAX_SEQUENCE_LENGTH = get_max_token_length_per_doc(stopwords_removed_reviews)"
   ]
  },
  {
   "cell_type": "code",
   "execution_count": 52,
   "metadata": {
    "ExecuteTime": {
     "end_time": "2021-12-16T01:04:00.368187Z",
     "start_time": "2021-12-16T01:04:00.364285Z"
    }
   },
   "outputs": [
    {
     "data": {
      "text/plain": [
       "1460"
      ]
     },
     "execution_count": 52,
     "metadata": {},
     "output_type": "execute_result"
    }
   ],
   "source": [
    "MAX_SEQUENCE_LENGTH"
   ]
  },
  {
   "cell_type": "markdown",
   "metadata": {},
   "source": [
    "Though the max length is 1460, most of the reviews would not be so long, hence we examine what is the 99% percentile of the review length, and we will use that as our max_length."
   ]
  },
  {
   "cell_type": "code",
   "execution_count": 53,
   "metadata": {
    "ExecuteTime": {
     "end_time": "2021-12-16T01:04:09.991327Z",
     "start_time": "2021-12-16T01:04:04.912040Z"
    }
   },
   "outputs": [],
   "source": [
    "lengths = list(map(lambda doc: len(doc), tokenizer.texts_to_sequences(stopwords_removed_reviews)))"
   ]
  },
  {
   "cell_type": "code",
   "execution_count": 54,
   "metadata": {
    "ExecuteTime": {
     "end_time": "2021-12-16T01:04:19.468532Z",
     "start_time": "2021-12-16T01:04:19.082426Z"
    }
   },
   "outputs": [
    {
     "data": {
      "text/plain": [
       "(array([5.1637e+04, 9.6680e+03, 2.2310e+03, 5.5800e+02, 4.0000e+01,\n",
       "        1.4000e+01, 0.0000e+00, 0.0000e+00, 0.0000e+00, 1.0000e+00]),\n",
       " array([1.0000e+00, 1.4690e+02, 2.9280e+02, 4.3870e+02, 5.8460e+02,\n",
       "        7.3050e+02, 8.7640e+02, 1.0223e+03, 1.1682e+03, 1.3141e+03,\n",
       "        1.4600e+03]),\n",
       " <a list of 10 Patch objects>)"
      ]
     },
     "execution_count": 54,
     "metadata": {},
     "output_type": "execute_result"
    },
    {
     "data": {
      "image/png": "[encoded data removed]",
      "text/plain": [
       "<Figure size 432x288 with 1 Axes>"
      ]
     },
     "metadata": {
      "needs_background": "light"
     },
     "output_type": "display_data"
    }
   ],
   "source": [
    "plt.hist(lengths)"
   ]
  },
  {
   "cell_type": "code",
   "execution_count": 55,
   "metadata": {
    "ExecuteTime": {
     "end_time": "2021-12-16T01:04:24.546508Z",
     "start_time": "2021-12-16T01:04:24.524892Z"
    }
   },
   "outputs": [
    {
     "data": {
      "text/plain": [
       "436.0"
      ]
     },
     "execution_count": 55,
     "metadata": {},
     "output_type": "execute_result"
    }
   ],
   "source": [
    "np.quantile(lengths, 0.99)"
   ]
  },
  {
   "cell_type": "code",
   "execution_count": 76,
   "metadata": {
    "ExecuteTime": {
     "end_time": "2021-12-16T01:17:11.069625Z",
     "start_time": "2021-12-16T01:17:11.059536Z"
    }
   },
   "outputs": [],
   "source": [
    "MAX_SEQUENCE_LENGTH = 450"
   ]
  },
  {
   "cell_type": "code",
   "execution_count": 77,
   "metadata": {
    "ExecuteTime": {
     "end_time": "2021-12-16T01:17:18.367038Z",
     "start_time": "2021-12-16T01:17:17.289459Z"
    }
   },
   "outputs": [],
   "source": [
    "padded_reviews = pad_sequences(encoded_reviews, maxlen=MAX_SEQUENCE_LENGTH, padding='post')"
   ]
  },
  {
   "cell_type": "code",
   "execution_count": 60,
   "metadata": {
    "ExecuteTime": {
     "end_time": "2021-12-16T01:07:10.914060Z",
     "start_time": "2021-12-16T01:07:10.910831Z"
    }
   },
   "outputs": [],
   "source": [
    "# padded_reviews[0:2]"
   ]
  },
  {
   "cell_type": "markdown",
   "metadata": {},
   "source": [
    "### Review titles"
   ]
  },
  {
   "cell_type": "code",
   "execution_count": 61,
   "metadata": {
    "ExecuteTime": {
     "end_time": "2021-12-16T01:07:15.757844Z",
     "start_time": "2021-12-16T01:07:15.752774Z"
    }
   },
   "outputs": [],
   "source": [
    "titles = movie['review title']"
   ]
  },
  {
   "cell_type": "code",
   "execution_count": 62,
   "metadata": {
    "ExecuteTime": {
     "end_time": "2021-12-16T01:10:34.905642Z",
     "start_time": "2021-12-16T01:07:20.310627Z"
    }
   },
   "outputs": [],
   "source": [
    "stopwords_removed_titles = list(\n",
    "    map(lambda title: \" \".join([token.text for token in nlp(title) if not token.is_stop]), titles))"
   ]
  },
  {
   "cell_type": "code",
   "execution_count": 63,
   "metadata": {
    "ExecuteTime": {
     "end_time": "2021-12-16T01:10:40.973492Z",
     "start_time": "2021-12-16T01:10:39.939583Z"
    }
   },
   "outputs": [],
   "source": [
    "## Tokenize reviews\n",
    "tokenizer.fit_on_texts(stopwords_removed_titles)"
   ]
  },
  {
   "cell_type": "code",
   "execution_count": 64,
   "metadata": {
    "ExecuteTime": {
     "end_time": "2021-12-16T01:10:46.374624Z",
     "start_time": "2021-12-16T01:10:45.845028Z"
    }
   },
   "outputs": [],
   "source": [
    "encoded_titles = integer_encode_documents(stopwords_removed_titles, tokenizer)"
   ]
  },
  {
   "cell_type": "code",
   "execution_count": 65,
   "metadata": {
    "ExecuteTime": {
     "end_time": "2021-12-16T01:10:53.211215Z",
     "start_time": "2021-12-16T01:10:51.414810Z"
    }
   },
   "outputs": [
    {
     "data": {
      "text/plain": [
       "113"
      ]
     },
     "execution_count": 65,
     "metadata": {},
     "output_type": "execute_result"
    }
   ],
   "source": [
    "MAX_SEQUENCE_LENGTH_title = get_max_token_length_per_doc(stopwords_removed_titles)\n",
    "MAX_SEQUENCE_LENGTH_title"
   ]
  },
  {
   "cell_type": "code",
   "execution_count": 66,
   "metadata": {
    "ExecuteTime": {
     "end_time": "2021-12-16T01:10:58.493217Z",
     "start_time": "2021-12-16T01:10:58.216077Z"
    }
   },
   "outputs": [],
   "source": [
    "padded_titles = pad_sequences(encoded_titles, maxlen=MAX_SEQUENCE_LENGTH_title, padding='post')"
   ]
  },
  {
   "cell_type": "markdown",
   "metadata": {},
   "source": [
    "### Movie title"
   ]
  },
  {
   "cell_type": "code",
   "execution_count": 67,
   "metadata": {
    "ExecuteTime": {
     "end_time": "2021-12-16T01:12:22.002099Z",
     "start_time": "2021-12-16T01:12:21.999366Z"
    }
   },
   "outputs": [],
   "source": [
    "originals = movie['original title']"
   ]
  },
  {
   "cell_type": "code",
   "execution_count": 68,
   "metadata": {
    "ExecuteTime": {
     "end_time": "2021-12-16T01:14:57.606864Z",
     "start_time": "2021-12-16T01:12:26.476026Z"
    }
   },
   "outputs": [],
   "source": [
    "stopwords_removed_originals = list(\n",
    "    map(lambda original: \" \".join([token.text for token in nlp(original) if not token.is_stop]), originals))"
   ]
  },
  {
   "cell_type": "code",
   "execution_count": 69,
   "metadata": {
    "ExecuteTime": {
     "end_time": "2021-12-16T01:15:03.732283Z",
     "start_time": "2021-12-16T01:15:02.818382Z"
    }
   },
   "outputs": [],
   "source": [
    "## Tokenize reviews\n",
    "tokenizer.fit_on_texts(stopwords_removed_originals)"
   ]
  },
  {
   "cell_type": "code",
   "execution_count": 70,
   "metadata": {
    "ExecuteTime": {
     "end_time": "2021-12-16T01:15:09.196482Z",
     "start_time": "2021-12-16T01:15:08.746173Z"
    }
   },
   "outputs": [],
   "source": [
    "encoded_originals = integer_encode_documents(stopwords_removed_originals, tokenizer)"
   ]
  },
  {
   "cell_type": "code",
   "execution_count": 71,
   "metadata": {
    "ExecuteTime": {
     "end_time": "2021-12-16T01:15:15.464182Z",
     "start_time": "2021-12-16T01:15:14.245198Z"
    }
   },
   "outputs": [
    {
     "data": {
      "text/plain": [
       "17"
      ]
     },
     "execution_count": 71,
     "metadata": {},
     "output_type": "execute_result"
    }
   ],
   "source": [
    "MAX_SEQUENCE_LENGTH_original = get_max_token_length_per_doc(stopwords_removed_originals)\n",
    "MAX_SEQUENCE_LENGTH_original"
   ]
  },
  {
   "cell_type": "code",
   "execution_count": 72,
   "metadata": {
    "ExecuteTime": {
     "end_time": "2021-12-16T01:15:20.835218Z",
     "start_time": "2021-12-16T01:15:20.564740Z"
    }
   },
   "outputs": [],
   "source": [
    "padded_originals = pad_sequences(encoded_originals, maxlen=MAX_SEQUENCE_LENGTH_title, padding='post')"
   ]
  },
  {
   "cell_type": "markdown",
   "metadata": {},
   "source": [
    "### Concat the 3 columns"
   ]
  },
  {
   "cell_type": "markdown",
   "metadata": {},
   "source": [
    "We would like to include all these three columns' information as the model input, so we concat all three padded docs together."
   ]
  },
  {
   "cell_type": "code",
   "execution_count": 78,
   "metadata": {
    "ExecuteTime": {
     "end_time": "2021-12-16T01:17:24.548666Z",
     "start_time": "2021-12-16T01:17:24.403155Z"
    }
   },
   "outputs": [],
   "source": [
    "# concat padded docs from all three columns\n",
    "padded_doc = np.concatenate((padded_reviews, padded_titles,padded_originals), axis = 1)"
   ]
  },
  {
   "cell_type": "code",
   "execution_count": 79,
   "metadata": {
    "ExecuteTime": {
     "end_time": "2021-12-16T01:17:30.652049Z",
     "start_time": "2021-12-16T01:17:30.645689Z"
    }
   },
   "outputs": [
    {
     "data": {
      "text/plain": [
       "(64149, 676)"
      ]
     },
     "execution_count": 79,
     "metadata": {},
     "output_type": "execute_result"
    }
   ],
   "source": [
    "padded_doc.shape"
   ]
  },
  {
   "cell_type": "code",
   "execution_count": 80,
   "metadata": {
    "ExecuteTime": {
     "end_time": "2021-12-16T01:17:36.423380Z",
     "start_time": "2021-12-16T01:17:36.417439Z"
    }
   },
   "outputs": [
    {
     "data": {
      "text/plain": [
       "676"
      ]
     },
     "execution_count": 80,
     "metadata": {},
     "output_type": "execute_result"
    }
   ],
   "source": [
    "MAX_SEQUENCE_LENGTH_combined = padded_doc.shape[1]\n",
    "MAX_SEQUENCE_LENGTH_combined"
   ]
  },
  {
   "cell_type": "code",
   "execution_count": 81,
   "metadata": {
    "ExecuteTime": {
     "end_time": "2021-12-16T01:17:42.129037Z",
     "start_time": "2021-12-16T01:17:42.090582Z"
    }
   },
   "outputs": [],
   "source": [
    "encoder = LabelEncoder()\n",
    "labels = to_categorical(encoder.fit_transform(movie['category']))"
   ]
  },
  {
   "cell_type": "code",
   "execution_count": 82,
   "metadata": {
    "ExecuteTime": {
     "end_time": "2021-12-16T01:17:47.766121Z",
     "start_time": "2021-12-16T01:17:47.760627Z"
    }
   },
   "outputs": [
    {
     "data": {
      "text/plain": [
       "array([[0., 0., 1., 0., 0., 0.],\n",
       "       [0., 0., 0., 0., 0., 1.],\n",
       "       [1., 0., 0., 0., 0., 0.],\n",
       "       [0., 0., 0., 0., 1., 0.],\n",
       "       [0., 0., 0., 1., 0., 0.]], dtype=float32)"
      ]
     },
     "execution_count": 82,
     "metadata": {},
     "output_type": "execute_result"
    }
   ],
   "source": [
    "labels[0:5]"
   ]
  },
  {
   "cell_type": "code",
   "execution_count": 191,
   "metadata": {
    "ExecuteTime": {
     "end_time": "2021-12-17T01:40:28.176020Z",
     "start_time": "2021-12-17T01:40:28.171980Z"
    }
   },
   "outputs": [],
   "source": [
    "indices = range(0,len(padded_doc))"
   ]
  },
  {
   "cell_type": "code",
   "execution_count": 192,
   "metadata": {
    "ExecuteTime": {
     "end_time": "2021-12-17T01:40:44.437389Z",
     "start_time": "2021-12-17T01:40:44.188604Z"
    }
   },
   "outputs": [],
   "source": [
    "from sklearn.model_selection import train_test_split\n",
    "X_train, X_test, y_train, y_test, train_index, test_index = train_test_split(padded_doc, labels, indices, test_size=0.25, random_state = 42)"
   ]
  },
  {
   "cell_type": "markdown",
   "metadata": {},
   "source": [
    "## Embedding"
   ]
  },
  {
   "cell_type": "code",
   "execution_count": 87,
   "metadata": {
    "ExecuteTime": {
     "end_time": "2021-12-16T01:19:00.739244Z",
     "start_time": "2021-12-16T01:19:00.706876Z"
    }
   },
   "outputs": [],
   "source": [
    "VOCAB_SIZE = int(len(tokenizer.word_index) * 1.1)"
   ]
  },
  {
   "cell_type": "code",
   "execution_count": 88,
   "metadata": {
    "ExecuteTime": {
     "end_time": "2021-12-16T01:19:06.538392Z",
     "start_time": "2021-12-16T01:19:06.531062Z"
    }
   },
   "outputs": [
    {
     "data": {
      "text/plain": [
       "136250"
      ]
     },
     "execution_count": 88,
     "metadata": {},
     "output_type": "execute_result"
    }
   ],
   "source": [
    "VOCAB_SIZE"
   ]
  },
  {
   "cell_type": "code",
   "execution_count": 64,
   "metadata": {
    "ExecuteTime": {
     "end_time": "2021-12-11T06:06:01.976231Z",
     "start_time": "2021-12-11T06:05:50.610844Z"
    }
   },
   "outputs": [
    {
     "name": "stdout",
     "output_type": "stream",
     "text": [
      "Loaded 400000 word vectors.\n"
     ]
    }
   ],
   "source": [
    "# def load_glove_vectors():\n",
    "#     embeddings_index = {}\n",
    "#     with open('glove.6B.100d.txt') as f:\n",
    "#         for line in f:\n",
    "#             values = line.split()\n",
    "#             word = values[0]\n",
    "#             coefs = asarray(values[1:], dtype='float32')\n",
    "#             embeddings_index[word] = coefs\n",
    "#     print('Loaded %s word vectors.' % len(embeddings_index))\n",
    "#     return embeddings_index\n",
    "\n",
    "\n",
    "# embeddings_index = load_glove_vectors()"
   ]
  },
  {
   "cell_type": "code",
   "execution_count": 65,
   "metadata": {
    "ExecuteTime": {
     "end_time": "2021-12-11T06:06:53.138017Z",
     "start_time": "2021-12-11T06:06:51.460230Z"
    }
   },
   "outputs": [],
   "source": [
    "# # create a weight matrix for words in training docs\n",
    "# embedding_matrix = zeros((VOCAB_SIZE, 100))\n",
    "# for word, i in tokenizer.word_index.items():\n",
    "#     embedding_vector = embeddings_index.get(word)\n",
    "#     if embedding_vector is not None: # check that it is an actual word that we have embeddings for\n",
    "#         embedding_matrix[i] = embedding_vector"
   ]
  },
  {
   "cell_type": "markdown",
   "metadata": {},
   "source": [
    "We tried to use the pre-trained word embeddings, but the performance is not satisfying, hence we use the review column to train our own word embedding which would help improve the model performance."
   ]
  },
  {
   "cell_type": "code",
   "execution_count": 76,
   "metadata": {
    "ExecuteTime": {
     "end_time": "2021-12-11T06:52:50.099433Z",
     "start_time": "2021-12-11T06:47:13.610885Z"
    }
   },
   "outputs": [],
   "source": [
    "# Self train the word embedding using the review column\n",
    "docs = [word_tokenize(review) for review in reviews]\n",
    "model = Word2Vec(docs, vector_size=300, window=10, min_count=1, workers=4)\n",
    "model.wv.save_word2vec_format('movie_embeddings.txt', binary=False)"
   ]
  },
  {
   "cell_type": "code",
   "execution_count": 181,
   "metadata": {
    "ExecuteTime": {
     "end_time": "2021-12-16T23:18:09.916600Z",
     "start_time": "2021-12-16T23:17:46.076708Z"
    }
   },
   "outputs": [
    {
     "name": "stdout",
     "output_type": "stream",
     "text": [
      "Loaded 261388 word vectors.\n"
     ]
    }
   ],
   "source": [
    "def load_glove_vectors():\n",
    "    embeddings_index = {}\n",
    "    with open('movie_embeddings.txt') as f:\n",
    "        for line in f:\n",
    "            values = line.split()\n",
    "            word = values[0]\n",
    "            coefs = asarray(values[1:], dtype='float32')\n",
    "            embeddings_index[word] = coefs\n",
    "    print('Loaded %s word vectors.' % len(embeddings_index))\n",
    "    return embeddings_index\n",
    "embeddings_index = load_glove_vectors()\n",
    "\n",
    "embedding_matrix_movie = zeros((VOCAB_SIZE, 300))\n",
    "for word, i in tokenizer.word_index.items():\n",
    "    if i == VOCAB_SIZE:\n",
    "        break\n",
    "    embedding_vector = embeddings_index.get(word)\n",
    "    if embedding_vector is not None: # check that it is an actual word that we have embeddings for\n",
    "        embedding_matrix_movie[i] = embedding_vector"
   ]
  },
  {
   "cell_type": "markdown",
   "metadata": {},
   "source": [
    "## Model"
   ]
  },
  {
   "cell_type": "code",
   "execution_count": 90,
   "metadata": {
    "ExecuteTime": {
     "end_time": "2021-12-16T01:23:26.270906Z",
     "start_time": "2021-12-16T01:23:26.229413Z"
    }
   },
   "outputs": [],
   "source": [
    "# define model\n",
    "\n",
    "def make_lstm_classification_model(plot=False):\n",
    "    model = Sequential()\n",
    "    model.add(Embedding(VOCAB_SIZE, 300, weights=[embedding_matrix_movie], input_length=MAX_SEQUENCE_LENGTH_combined, trainable=True))\n",
    "    model.add(Masking(mask_value=0.0)) # masking layer, masks any words that don't have an embedding as 0s.\n",
    "    model.add(LSTM(units=32, input_shape=(1, MAX_SEQUENCE_LENGTH_combined)))\n",
    "    model.add(Dense(16))\n",
    "    model.add(Dense(6, activation='softmax'))\n",
    "    \n",
    "    # Compile the model\n",
    "    model.compile(\n",
    "    optimizer='adam', loss='categorical_crossentropy', metrics=['accuracy'])\n",
    "    # summarize the model\n",
    "    model.summary()\n",
    "    \n",
    "    if plot:\n",
    "        plot_model(model, to_file='model.png', show_shapes=True)\n",
    "    return model\n",
    "\n",
    "def make_multi_classification_rnn_model(plot=False):\n",
    "    model = Sequential()\n",
    "    model.add(Embedding(VOCAB_SIZE, 300, weights=[embedding_matrix_movie], input_length=MAX_SEQUENCE_LENGTH_combined, trainable=True))\n",
    "    model.add(Masking(mask_value=0.0)) # masking layer, masks any words that don't have an embedding as 0s.\n",
    "    model.add(SimpleRNN(units=64, input_shape=(1, MAX_SEQUENCE_LENGTH_combined)))\n",
    "    model.add(Dense(16))\n",
    "    model.add(Dense(6, activation='softmax'))\n",
    "    \n",
    "    # Compile the model\n",
    "    model.compile(\n",
    "    optimizer='adam', loss='categorical_crossentropy', metrics=['accuracy'])\n",
    "    # summarize the model\n",
    "    model.summary()\n",
    "    \n",
    "    if plot:\n",
    "        plot_model(model, to_file='model.png', show_shapes=True)\n",
    "    return model"
   ]
  },
  {
   "cell_type": "markdown",
   "metadata": {},
   "source": [
    "### LMST"
   ]
  },
  {
   "cell_type": "markdown",
   "metadata": {
    "ExecuteTime": {
     "end_time": "2021-12-17T06:46:41.561188Z",
     "start_time": "2021-12-17T06:46:41.558669Z"
    }
   },
   "source": [
    "#### pre_trained word_embedding"
   ]
  },
  {
   "cell_type": "code",
   "execution_count": 264,
   "metadata": {
    "ExecuteTime": {
     "end_time": "2021-12-17T06:47:56.275162Z",
     "start_time": "2021-12-17T06:47:37.998012Z"
    }
   },
   "outputs": [
    {
     "name": "stdout",
     "output_type": "stream",
     "text": [
      "Loaded 400000 word vectors.\n"
     ]
    }
   ],
   "source": [
    "def load_glove_vectors():\n",
    "    embeddings_index = {}\n",
    "    with open('glove.6B.100d.txt') as f:\n",
    "        for line in f:\n",
    "            values = line.split()\n",
    "            word = values[0]\n",
    "            coefs = asarray(values[1:], dtype='float32')\n",
    "            embeddings_index[word] = coefs\n",
    "    print('Loaded %s word vectors.' % len(embeddings_index))\n",
    "    return embeddings_index\n",
    "\n",
    "\n",
    "embeddings_index = load_glove_vectors()"
   ]
  },
  {
   "cell_type": "code",
   "execution_count": 265,
   "metadata": {
    "ExecuteTime": {
     "end_time": "2021-12-17T06:48:22.708863Z",
     "start_time": "2021-12-17T06:48:21.192095Z"
    }
   },
   "outputs": [],
   "source": [
    "# create a weight matrix for words in training docs\n",
    "embedding_matrix = zeros((VOCAB_SIZE, 100))\n",
    "for word, i in tokenizer.word_index.items():\n",
    "    embedding_vector = embeddings_index.get(word)\n",
    "    if embedding_vector is not None: # check that it is an actual word that we have embeddings for\n",
    "        embedding_matrix[i] = embedding_vector"
   ]
  },
  {
   "cell_type": "code",
   "execution_count": 268,
   "metadata": {
    "ExecuteTime": {
     "end_time": "2021-12-17T06:50:02.688713Z",
     "start_time": "2021-12-17T06:50:02.682514Z"
    }
   },
   "outputs": [],
   "source": [
    "def make_lstm_classification_model(plot=False):\n",
    "    model = Sequential()\n",
    "    model.add(Embedding(VOCAB_SIZE, 100, weights=[embedding_matrix], input_length=MAX_SEQUENCE_LENGTH_combined, trainable=False))\n",
    "    model.add(Masking(mask_value=0.0)) # masking layer, masks any words that don't have an embedding as 0s.\n",
    "    model.add(LSTM(units=32, input_shape=(1, MAX_SEQUENCE_LENGTH_combined)))\n",
    "    model.add(Dense(16))\n",
    "    model.add(Dense(6, activation='softmax'))\n",
    "    \n",
    "    # Compile the model\n",
    "    model.compile(\n",
    "    optimizer='adam', loss='categorical_crossentropy', metrics=['accuracy'])\n",
    "    # summarize the model\n",
    "    model.summary()\n",
    "    \n",
    "    if plot:\n",
    "        plot_model(model, to_file='model.png', show_shapes=True)\n",
    "    return model"
   ]
  },
  {
   "cell_type": "code",
   "execution_count": 272,
   "metadata": {
    "ExecuteTime": {
     "end_time": "2021-12-17T07:00:33.052131Z",
     "start_time": "2021-12-17T07:00:31.309226Z"
    }
   },
   "outputs": [
    {
     "name": "stdout",
     "output_type": "stream",
     "text": [
      "Model: \"sequential_20\"\n",
      "_________________________________________________________________\n",
      "Layer (type)                 Output Shape              Param #   \n",
      "=================================================================\n",
      "embedding_20 (Embedding)     (None, 410, 100)          13625000  \n",
      "_________________________________________________________________\n",
      "masking_14 (Masking)         (None, 410, 100)          0         \n",
      "_________________________________________________________________\n",
      "lstm_12 (LSTM)               (None, 32)                17024     \n",
      "_________________________________________________________________\n",
      "dense_28 (Dense)             (None, 16)                528       \n",
      "_________________________________________________________________\n",
      "dense_29 (Dense)             (None, 6)                 102       \n",
      "=================================================================\n",
      "Total params: 13,642,654\n",
      "Trainable params: 17,654\n",
      "Non-trainable params: 13,625,000\n",
      "_________________________________________________________________\n"
     ]
    }
   ],
   "source": [
    "model = make_lstm_classification_model()"
   ]
  },
  {
   "cell_type": "code",
   "execution_count": 274,
   "metadata": {
    "ExecuteTime": {
     "end_time": "2021-12-17T07:16:03.440103Z",
     "start_time": "2021-12-17T07:00:44.247669Z"
    }
   },
   "outputs": [
    {
     "name": "stdout",
     "output_type": "stream",
     "text": [
      "Epoch 1/5\n",
      "1354/1354 [==============================] - 189s 140ms/step - loss: 1.5474 - accuracy: 0.3680 - val_loss: 1.4140 - val_accuracy: 0.4524\n",
      "Epoch 2/5\n",
      "1354/1354 [==============================] - 183s 135ms/step - loss: 1.2733 - accuracy: 0.5177 - val_loss: 1.1982 - val_accuracy: 0.5569\n",
      "Epoch 3/5\n",
      "1354/1354 [==============================] - 181s 134ms/step - loss: 1.0679 - accuracy: 0.6188 - val_loss: 1.0524 - val_accuracy: 0.6303\n",
      "Epoch 4/5\n",
      "1354/1354 [==============================] - 181s 133ms/step - loss: 0.9325 - accuracy: 0.6771 - val_loss: 0.9925 - val_accuracy: 0.6569\n",
      "Epoch 5/5\n",
      "1354/1354 [==============================] - 184s 136ms/step - loss: 0.8419 - accuracy: 0.7142 - val_loss: 0.9266 - val_accuracy: 0.6854\n"
     ]
    }
   ],
   "source": [
    "history = model.fit(X_train, y_train,validation_split = 0.1, epochs=5, verbose=1)"
   ]
  },
  {
   "cell_type": "code",
   "execution_count": 275,
   "metadata": {
    "ExecuteTime": {
     "end_time": "2021-12-17T07:17:04.308608Z",
     "start_time": "2021-12-17T07:16:52.435310Z"
    }
   },
   "outputs": [
    {
     "name": "stdout",
     "output_type": "stream",
     "text": [
      "502/502 [==============================] - 12s 23ms/step - loss: 0.9611 - accuracy: 0.6820\n",
      "Accuracy: 68.200523\n"
     ]
    }
   ],
   "source": [
    "loss, accuracy = model.evaluate(X_test, y_test, verbose=1)\n",
    "print('Accuracy: %f' % (accuracy*100))"
   ]
  },
  {
   "cell_type": "markdown",
   "metadata": {},
   "source": [
    "#### Self_trained"
   ]
  },
  {
   "cell_type": "code",
   "execution_count": 156,
   "metadata": {
    "ExecuteTime": {
     "end_time": "2021-12-12T01:08:46.390200Z",
     "start_time": "2021-12-12T01:08:44.958850Z"
    }
   },
   "outputs": [
    {
     "name": "stdout",
     "output_type": "stream",
     "text": [
      "Model: \"sequential_10\"\n",
      "_________________________________________________________________\n",
      "Layer (type)                 Output Shape              Param #   \n",
      "=================================================================\n",
      "embedding_10 (Embedding)     (None, 676, 300)          39508500  \n",
      "_________________________________________________________________\n",
      "masking_5 (Masking)          (None, 676, 300)          0         \n",
      "_________________________________________________________________\n",
      "lstm_7 (LSTM)                (None, 32)                42624     \n",
      "_________________________________________________________________\n",
      "dense_13 (Dense)             (None, 16)                528       \n",
      "_________________________________________________________________\n",
      "dense_14 (Dense)             (None, 6)                 102       \n",
      "=================================================================\n",
      "Total params: 39,551,754\n",
      "Trainable params: 39,551,754\n",
      "Non-trainable params: 0\n",
      "_________________________________________________________________\n"
     ]
    }
   ],
   "source": [
    "model = make_lstm_classification_model()"
   ]
  },
  {
   "cell_type": "code",
   "execution_count": 157,
   "metadata": {
    "ExecuteTime": {
     "end_time": "2021-12-12T03:44:46.857657Z",
     "start_time": "2021-12-12T01:08:56.648072Z"
    }
   },
   "outputs": [
    {
     "name": "stdout",
     "output_type": "stream",
     "text": [
      "Epoch 1/5\n",
      "1354/1354 [==============================] - 1023s 752ms/step - loss: 1.3819 - accuracy: 0.4467 - val_loss: 0.7239 - val_accuracy: 0.7485\n",
      "Epoch 2/5\n",
      "1354/1354 [==============================] - 974s 719ms/step - loss: 0.5511 - accuracy: 0.8111 - val_loss: 0.6571 - val_accuracy: 0.7747\n",
      "Epoch 3/5\n",
      "1354/1354 [==============================] - 1170s 864ms/step - loss: 0.3349 - accuracy: 0.8902 - val_loss: 0.6816 - val_accuracy: 0.7835\n",
      "Epoch 4/5\n",
      "1354/1354 [==============================] - 5236s 4s/step - loss: 0.2074 - accuracy: 0.9325 - val_loss: 0.7977 - val_accuracy: 0.7839\n",
      "Epoch 5/5\n",
      "1354/1354 [==============================] - 948s 700ms/step - loss: 0.1219 - accuracy: 0.9627 - val_loss: 0.9432 - val_accuracy: 0.7783\n"
     ]
    }
   ],
   "source": [
    "# fit the model\n",
    "history = model.fit(X_train, y_train,validation_split = 0.1, epochs=5, verbose=1)"
   ]
  },
  {
   "cell_type": "code",
   "execution_count": 158,
   "metadata": {
    "ExecuteTime": {
     "end_time": "2021-12-12T03:48:53.482162Z",
     "start_time": "2021-12-12T03:48:10.851438Z"
    }
   },
   "outputs": [
    {
     "name": "stdout",
     "output_type": "stream",
     "text": [
      "502/502 [==============================] - 42s 83ms/step - loss: 0.9424 - accuracy: 0.7770\n",
      "Accuracy: 77.696723\n"
     ]
    }
   ],
   "source": [
    "loss, accuracy = model.evaluate(X_test, y_test, verbose=1)\n",
    "print('Accuracy: %f' % (accuracy*100))"
   ]
  },
  {
   "cell_type": "markdown",
   "metadata": {},
   "source": [
    "The training accuracy is higher than the trsting accuracy by nearly 20%, so there is an overfitting issue. To avoid that, we only fit the training data with 3 epochs in later on models."
   ]
  },
  {
   "cell_type": "code",
   "execution_count": 159,
   "metadata": {
    "ExecuteTime": {
     "end_time": "2021-12-12T03:49:45.110081Z",
     "start_time": "2021-12-12T03:49:04.308225Z"
    }
   },
   "outputs": [],
   "source": [
    "predictions = np.argmax(model.predict(X_test), axis=-1)\n",
    "y_test_num = [i.tolist().index(1) for i in y_test]"
   ]
  },
  {
   "cell_type": "code",
   "execution_count": 160,
   "metadata": {
    "ExecuteTime": {
     "end_time": "2021-12-12T03:49:59.432941Z",
     "start_time": "2021-12-12T03:49:59.357242Z"
    }
   },
   "outputs": [
    {
     "data": {
      "text/plain": [
       "array([[2898,   37,  187,   79,   99,  168],\n",
       "       [  30,  830,   43,    3,   13,   55],\n",
       "       [ 117,   42, 3249,   82,  283,  241],\n",
       "       [  83,    5,   87,  965,  128,  101],\n",
       "       [ 104,   14,  253,  114, 2375,  312],\n",
       "       [ 187,   48,  281,   88,  293, 2144]])"
      ]
     },
     "execution_count": 160,
     "metadata": {},
     "output_type": "execute_result"
    }
   ],
   "source": [
    "confusion_matrix(y_test_num, predictions)"
   ]
  },
  {
   "cell_type": "markdown",
   "metadata": {},
   "source": [
    "#### Parameter Tuning - change max length"
   ]
  },
  {
   "cell_type": "markdown",
   "metadata": {},
   "source": [
    "In the previous model, we used 99% percentile of review length to set our max_length parameter. There might be quite a number of 0 in the padded doc for those short reviews. Hence, we tried to decrease this max_length by using 95% of the review length instead."
   ]
  },
  {
   "cell_type": "code",
   "execution_count": 194,
   "metadata": {
    "ExecuteTime": {
     "end_time": "2021-12-17T01:42:04.637249Z",
     "start_time": "2021-12-17T01:42:04.603168Z"
    }
   },
   "outputs": [
    {
     "data": {
      "text/plain": [
       "281.0"
      ]
     },
     "execution_count": 194,
     "metadata": {},
     "output_type": "execute_result"
    }
   ],
   "source": [
    "np.quantile(lengths, 0.95)"
   ]
  },
  {
   "cell_type": "code",
   "execution_count": 195,
   "metadata": {
    "ExecuteTime": {
     "end_time": "2021-12-17T01:42:10.504338Z",
     "start_time": "2021-12-17T01:42:09.306308Z"
    }
   },
   "outputs": [],
   "source": [
    "padded_reviews = pad_sequences(encoded_reviews, maxlen=280, padding='post')"
   ]
  },
  {
   "cell_type": "code",
   "execution_count": 196,
   "metadata": {
    "ExecuteTime": {
     "end_time": "2021-12-17T01:42:19.631573Z",
     "start_time": "2021-12-17T01:42:19.474883Z"
    }
   },
   "outputs": [],
   "source": [
    "# concat padded docs from all three columns\n",
    "padded_doc = np.concatenate((padded_reviews, padded_titles,padded_originals), axis = 1)"
   ]
  },
  {
   "cell_type": "code",
   "execution_count": 197,
   "metadata": {
    "ExecuteTime": {
     "end_time": "2021-12-17T01:42:24.158969Z",
     "start_time": "2021-12-17T01:42:23.999703Z"
    }
   },
   "outputs": [],
   "source": [
    "X_train, X_test, y_train, y_test, train_index, test_index = train_test_split(padded_doc, labels, indices, test_size=0.25, random_state = 42)"
   ]
  },
  {
   "cell_type": "code",
   "execution_count": 198,
   "metadata": {
    "ExecuteTime": {
     "end_time": "2021-12-17T01:42:28.660364Z",
     "start_time": "2021-12-17T01:42:28.653958Z"
    }
   },
   "outputs": [
    {
     "data": {
      "text/plain": [
       "410"
      ]
     },
     "execution_count": 198,
     "metadata": {},
     "output_type": "execute_result"
    }
   ],
   "source": [
    "MAX_SEQUENCE_LENGTH_combined = padded_doc.shape[1]\n",
    "MAX_SEQUENCE_LENGTH_combined"
   ]
  },
  {
   "cell_type": "code",
   "execution_count": 199,
   "metadata": {
    "ExecuteTime": {
     "end_time": "2021-12-17T01:42:32.493852Z",
     "start_time": "2021-12-17T01:42:32.478575Z"
    }
   },
   "outputs": [],
   "source": [
    "VOCAB_SIZE = 136250\n",
    "def make_lstm_classification_model(plot=False):\n",
    "    model = Sequential()\n",
    "    model.add(Embedding(VOCAB_SIZE, 300, weights=[embedding_matrix_movie], input_length=MAX_SEQUENCE_LENGTH_combined, trainable=True))\n",
    "    model.add(Masking(mask_value=0.0)) # masking layer, masks any words that don't have an embedding as 0s.\n",
    "    model.add(LSTM(units=32, input_shape=(1, MAX_SEQUENCE_LENGTH_combined)))\n",
    "    model.add(Dense(16))\n",
    "    model.add(Dense(6, activation='softmax'))\n",
    "    \n",
    "    # Compile the model\n",
    "    model.compile(\n",
    "    optimizer='adam', loss='categorical_crossentropy', metrics=['accuracy'])\n",
    "    # summarize the model\n",
    "    model.summary()\n",
    "    \n",
    "    if plot:\n",
    "        plot_model(model, to_file='model.png', show_shapes=True)\n",
    "    return model"
   ]
  },
  {
   "cell_type": "code",
   "execution_count": 200,
   "metadata": {
    "ExecuteTime": {
     "end_time": "2021-12-17T02:25:38.123389Z",
     "start_time": "2021-12-17T01:42:37.812779Z"
    }
   },
   "outputs": [
    {
     "name": "stdout",
     "output_type": "stream",
     "text": [
      "Model: \"sequential_16\"\n",
      "_________________________________________________________________\n",
      "Layer (type)                 Output Shape              Param #   \n",
      "=================================================================\n",
      "embedding_16 (Embedding)     (None, 410, 300)          40875000  \n",
      "_________________________________________________________________\n",
      "masking_11 (Masking)         (None, 410, 300)          0         \n",
      "_________________________________________________________________\n",
      "lstm_10 (LSTM)               (None, 32)                42624     \n",
      "_________________________________________________________________\n",
      "dense_22 (Dense)             (None, 16)                528       \n",
      "_________________________________________________________________\n",
      "dense_23 (Dense)             (None, 6)                 102       \n",
      "=================================================================\n",
      "Total params: 40,918,254\n",
      "Trainable params: 40,918,254\n",
      "Non-trainable params: 0\n",
      "_________________________________________________________________\n",
      "Epoch 1/3\n",
      "1354/1354 [==============================] - 770s 561ms/step - loss: 1.3796 - accuracy: 0.4520 - val_loss: 0.6301 - val_accuracy: 0.7976\n",
      "Epoch 2/3\n",
      "1354/1354 [==============================] - 753s 556ms/step - loss: 0.3858 - accuracy: 0.8739 - val_loss: 0.5321 - val_accuracy: 0.8275\n",
      "Epoch 3/3\n",
      "1354/1354 [==============================] - 1056s 780ms/step - loss: 0.1444 - accuracy: 0.9556 - val_loss: 0.6219 - val_accuracy: 0.8294\n"
     ]
    }
   ],
   "source": [
    "model = make_lstm_classification_model()\n",
    "history = model.fit(X_train, y_train,validation_split = 0.1, epochs=3, verbose=1)"
   ]
  },
  {
   "cell_type": "code",
   "execution_count": 201,
   "metadata": {
    "ExecuteTime": {
     "end_time": "2021-12-17T02:27:35.075475Z",
     "start_time": "2021-12-17T02:26:57.841846Z"
    }
   },
   "outputs": [
    {
     "name": "stdout",
     "output_type": "stream",
     "text": [
      "502/502 [==============================] - 37s 74ms/step - loss: 0.6458 - accuracy: 0.8258\n",
      "Accuracy: 82.578874\n"
     ]
    }
   ],
   "source": [
    "loss, accuracy = model.evaluate(X_test, y_test, verbose=1)\n",
    "print('Accuracy: %f' % (accuracy*100))"
   ]
  },
  {
   "cell_type": "code",
   "execution_count": 202,
   "metadata": {
    "ExecuteTime": {
     "end_time": "2021-12-17T02:28:22.027075Z",
     "start_time": "2021-12-17T02:27:43.005341Z"
    }
   },
   "outputs": [],
   "source": [
    "predictions = np.argmax(model.predict(X_test), axis=-1)\n",
    "y_test_num = [i.tolist().index(1) for i in y_test]"
   ]
  },
  {
   "cell_type": "code",
   "execution_count": 203,
   "metadata": {
    "ExecuteTime": {
     "end_time": "2021-12-17T02:28:26.813235Z",
     "start_time": "2021-12-17T02:28:26.716964Z"
    }
   },
   "outputs": [
    {
     "data": {
      "text/plain": [
       "array([[3126,   13,  112,   55,  130,   73],\n",
       "       [  42,  806,   51,    5,   28,   52],\n",
       "       [ 141,   29, 3375,   54,  234,  145],\n",
       "       [  71,    2,   55, 1056,  112,   47],\n",
       "       [ 155,    6,  201,   56, 2568,  165],\n",
       "       [ 173,   38,  194,   71,  284, 2313]])"
      ]
     },
     "execution_count": 203,
     "metadata": {},
     "output_type": "execute_result"
    }
   ],
   "source": [
    "confusion_matrix(y_test_num, predictions)"
   ]
  },
  {
   "cell_type": "code",
   "execution_count": 205,
   "metadata": {
    "ExecuteTime": {
     "end_time": "2021-12-17T02:29:05.444569Z",
     "start_time": "2021-12-17T02:29:05.349219Z"
    }
   },
   "outputs": [
    {
     "name": "stdout",
     "output_type": "stream",
     "text": [
      "              precision    recall  f1-score   support\n",
      "\n",
      "           0       0.84      0.89      0.87      3509\n",
      "           1       0.90      0.82      0.86       984\n",
      "           2       0.85      0.85      0.85      3978\n",
      "           3       0.81      0.79      0.80      1343\n",
      "           4       0.77      0.81      0.79      3151\n",
      "           5       0.83      0.75      0.79      3073\n",
      "\n",
      "    accuracy                           0.83     16038\n",
      "   macro avg       0.83      0.82      0.82     16038\n",
      "weighted avg       0.83      0.83      0.83     16038\n",
      "\n"
     ]
    }
   ],
   "source": [
    "print(classification_report(y_test_num, predictions))"
   ]
  },
  {
   "cell_type": "code",
   "execution_count": 221,
   "metadata": {
    "ExecuteTime": {
     "end_time": "2021-12-17T05:11:41.626621Z",
     "start_time": "2021-12-17T05:11:41.515603Z"
    }
   },
   "outputs": [
    {
     "data": {
      "text/plain": [
       "0.8910744579975285"
      ]
     },
     "execution_count": 221,
     "metadata": {},
     "output_type": "execute_result"
    }
   ],
   "source": [
    "roc_auc_score(to_categorical(encoder.fit_transform(y_test_num)), \n",
    "              to_categorical(encoder.fit_transform(predictions)), multi_class=\"ovr\", average=\"weighted\")"
   ]
  },
  {
   "cell_type": "markdown",
   "metadata": {},
   "source": [
    "#### Some examples"
   ]
  },
  {
   "cell_type": "markdown",
   "metadata": {},
   "source": [
    "Since this model has a higher accuracy, we select this as our deep learning model and look at some of the predictions in detail."
   ]
  },
  {
   "cell_type": "code",
   "execution_count": 251,
   "metadata": {
    "ExecuteTime": {
     "end_time": "2021-12-17T06:31:13.245697Z",
     "start_time": "2021-12-17T06:31:13.158035Z"
    }
   },
   "outputs": [
    {
     "name": "stderr",
     "output_type": "stream",
     "text": [
      "<ipython-input-251-853987565cd0>:2: SettingWithCopyWarning: \n",
      "A value is trying to be set on a copy of a slice from a DataFrame.\n",
      "Try using .loc[row_indexer,col_indexer] = value instead\n",
      "\n",
      "See the caveats in the documentation: https://pandas.pydata.org/pandas-docs/stable/user_guide/indexing.html#returning-a-view-versus-a-copy\n",
      "  df_test['y_label'] = y_test_num\n",
      "<ipython-input-251-853987565cd0>:3: SettingWithCopyWarning: \n",
      "A value is trying to be set on a copy of a slice from a DataFrame.\n",
      "Try using .loc[row_indexer,col_indexer] = value instead\n",
      "\n",
      "See the caveats in the documentation: https://pandas.pydata.org/pandas-docs/stable/user_guide/indexing.html#returning-a-view-versus-a-copy\n",
      "  df_test['Prediction'] = predictions\n"
     ]
    },
    {
     "data": {
      "text/html": [
       "<div>\n",
       "<style scoped>\n",
       "    .dataframe tbody tr th:only-of-type {\n",
       "        vertical-align: middle;\n",
       "    }\n",
       "\n",
       "    .dataframe tbody tr th {\n",
       "        vertical-align: top;\n",
       "    }\n",
       "\n",
       "    .dataframe thead th {\n",
       "        text-align: right;\n",
       "    }\n",
       "</style>\n",
       "<table border=\"1\" class=\"dataframe\">\n",
       "  <thead>\n",
       "    <tr style=\"text-align: right;\">\n",
       "      <th></th>\n",
       "      <th>id number</th>\n",
       "      <th>original title</th>\n",
       "      <th>director/creator</th>\n",
       "      <th>movie lenght</th>\n",
       "      <th>review title</th>\n",
       "      <th>review</th>\n",
       "      <th>label</th>\n",
       "      <th>mean of stars</th>\n",
       "      <th>number of reviews</th>\n",
       "      <th>full reviews average stars</th>\n",
       "      <th>category</th>\n",
       "      <th>y_label</th>\n",
       "      <th>Prediction</th>\n",
       "    </tr>\n",
       "  </thead>\n",
       "  <tbody>\n",
       "    <tr>\n",
       "      <th>256169</th>\n",
       "      <td>256169</td>\n",
       "      <td>High Art</td>\n",
       "      <td>Lisa Cholodenko</td>\n",
       "      <td>1 hour 41 minutes</td>\n",
       "      <td>Where's the Passion?</td>\n",
       "      <td>The acting was good and I didn't mind the slow...</td>\n",
       "      <td>4</td>\n",
       "      <td>7.87</td>\n",
       "      <td>75</td>\n",
       "      <td>6.6</td>\n",
       "      <td>Drama</td>\n",
       "      <td>4</td>\n",
       "      <td>4</td>\n",
       "    </tr>\n",
       "    <tr>\n",
       "      <th>180966</th>\n",
       "      <td>180966</td>\n",
       "      <td>A Life Less Ordinary</td>\n",
       "      <td>Danny Boyle</td>\n",
       "      <td>1 hour 43 minutes</td>\n",
       "      <td>McGregor and Diaz are real stars here</td>\n",
       "      <td>I'm a big fan of Cameron Diaz, and Ewan McGreg...</td>\n",
       "      <td>8</td>\n",
       "      <td>6.99</td>\n",
       "      <td>126</td>\n",
       "      <td>6.4</td>\n",
       "      <td>Comedy</td>\n",
       "      <td>2</td>\n",
       "      <td>2</td>\n",
       "    </tr>\n",
       "    <tr>\n",
       "      <th>59122</th>\n",
       "      <td>59122</td>\n",
       "      <td>Groundhog Day</td>\n",
       "      <td>Harold Ramis</td>\n",
       "      <td>1 hour 41 minutes</td>\n",
       "      <td>It was somewhat confusing...</td>\n",
       "      <td>Groundhog Day, it's a movie we watched in film...</td>\n",
       "      <td>3</td>\n",
       "      <td>7.20</td>\n",
       "      <td>147</td>\n",
       "      <td>8.0</td>\n",
       "      <td>Comedy</td>\n",
       "      <td>2</td>\n",
       "      <td>2</td>\n",
       "    </tr>\n",
       "    <tr>\n",
       "      <th>115708</th>\n",
       "      <td>115708</td>\n",
       "      <td>Kids</td>\n",
       "      <td>Larry Clark</td>\n",
       "      <td>1 hour 31 minutes</td>\n",
       "      <td>Its real!</td>\n",
       "      <td>In denial of what your kids are doing? Watch t...</td>\n",
       "      <td>8</td>\n",
       "      <td>5.99</td>\n",
       "      <td>199</td>\n",
       "      <td>7.1</td>\n",
       "      <td>Drama</td>\n",
       "      <td>4</td>\n",
       "      <td>4</td>\n",
       "    </tr>\n",
       "    <tr>\n",
       "      <th>90487</th>\n",
       "      <td>90487</td>\n",
       "      <td>Octobre</td>\n",
       "      <td>Pierre Falardeau</td>\n",
       "      <td>1 hour 37 minutes</td>\n",
       "      <td>You need to take a distance to appreciate thi...</td>\n",
       "      <td>In regards to previous comments, a few things ...</td>\n",
       "      <td>9</td>\n",
       "      <td>6.70</td>\n",
       "      <td>10</td>\n",
       "      <td>7.3</td>\n",
       "      <td>Drama</td>\n",
       "      <td>4</td>\n",
       "      <td>4</td>\n",
       "    </tr>\n",
       "    <tr>\n",
       "      <th>...</th>\n",
       "      <td>...</td>\n",
       "      <td>...</td>\n",
       "      <td>...</td>\n",
       "      <td>...</td>\n",
       "      <td>...</td>\n",
       "      <td>...</td>\n",
       "      <td>...</td>\n",
       "      <td>...</td>\n",
       "      <td>...</td>\n",
       "      <td>...</td>\n",
       "      <td>...</td>\n",
       "      <td>...</td>\n",
       "      <td>...</td>\n",
       "    </tr>\n",
       "    <tr>\n",
       "      <th>312273</th>\n",
       "      <td>312273</td>\n",
       "      <td>The '60s</td>\n",
       "      <td>Josh Hamilton</td>\n",
       "      <td>2 hours 52 minutes</td>\n",
       "      <td>I can't believe I watched this movie - it SUC...</td>\n",
       "      <td>Somehow they summed up the 60's, ten years tha...</td>\n",
       "      <td>1</td>\n",
       "      <td>6.97</td>\n",
       "      <td>29</td>\n",
       "      <td>7.0</td>\n",
       "      <td>Drama</td>\n",
       "      <td>4</td>\n",
       "      <td>4</td>\n",
       "    </tr>\n",
       "    <tr>\n",
       "      <th>244520</th>\n",
       "      <td>244520</td>\n",
       "      <td>SLC Punk!</td>\n",
       "      <td>James Merendino</td>\n",
       "      <td>1 hour 37 minutes</td>\n",
       "      <td>A hilarious indie film, well worth watching.</td>\n",
       "      <td>First, a disclaimer.  SLC Punk! isn't for ever...</td>\n",
       "      <td>9</td>\n",
       "      <td>7.50</td>\n",
       "      <td>113</td>\n",
       "      <td>7.4</td>\n",
       "      <td>Comedy</td>\n",
       "      <td>2</td>\n",
       "      <td>2</td>\n",
       "    </tr>\n",
       "    <tr>\n",
       "      <th>241787</th>\n",
       "      <td>241787</td>\n",
       "      <td>La fée Carabosse ou le poignard fatal</td>\n",
       "      <td>Georges Méliès</td>\n",
       "      <td>12 minutes</td>\n",
       "      <td>Colorful and Confusing</td>\n",
       "      <td>This is another example of a story that has sc...</td>\n",
       "      <td>7</td>\n",
       "      <td>7.33</td>\n",
       "      <td>3</td>\n",
       "      <td>6.3</td>\n",
       "      <td>Others</td>\n",
       "      <td>5</td>\n",
       "      <td>3</td>\n",
       "    </tr>\n",
       "    <tr>\n",
       "      <th>165326</th>\n",
       "      <td>165326</td>\n",
       "      <td>Bliss</td>\n",
       "      <td>Lance Young</td>\n",
       "      <td>1 hour 43 minutes</td>\n",
       "      <td>Definitely different...</td>\n",
       "      <td>I don't think this is a great movie, but I do ...</td>\n",
       "      <td>6</td>\n",
       "      <td>7.78</td>\n",
       "      <td>27</td>\n",
       "      <td>6.0</td>\n",
       "      <td>Drama</td>\n",
       "      <td>4</td>\n",
       "      <td>4</td>\n",
       "    </tr>\n",
       "    <tr>\n",
       "      <th>145599</th>\n",
       "      <td>145599</td>\n",
       "      <td>Last Man Standing</td>\n",
       "      <td>Walter Hill</td>\n",
       "      <td>1 hour 41 minutes</td>\n",
       "      <td>Very bizarre film that just never sustains in...</td>\n",
       "      <td>Will the 'Last Man Standing' also be the last ...</td>\n",
       "      <td>3</td>\n",
       "      <td>6.20</td>\n",
       "      <td>131</td>\n",
       "      <td>6.4</td>\n",
       "      <td>Action</td>\n",
       "      <td>0</td>\n",
       "      <td>0</td>\n",
       "    </tr>\n",
       "  </tbody>\n",
       "</table>\n",
       "<p>16038 rows × 13 columns</p>\n",
       "</div>"
      ],
      "text/plain": [
       "        id number                         original title  director/creator  \\\n",
       "256169     256169                               High Art   Lisa Cholodenko   \n",
       "180966     180966                   A Life Less Ordinary       Danny Boyle   \n",
       "59122       59122                          Groundhog Day      Harold Ramis   \n",
       "115708     115708                                   Kids       Larry Clark   \n",
       "90487       90487                                Octobre  Pierre Falardeau   \n",
       "...           ...                                    ...               ...   \n",
       "312273     312273                               The '60s     Josh Hamilton   \n",
       "244520     244520                              SLC Punk!   James Merendino   \n",
       "241787     241787  La fée Carabosse ou le poignard fatal    Georges Méliès   \n",
       "165326     165326                                  Bliss       Lance Young   \n",
       "145599     145599                      Last Man Standing       Walter Hill   \n",
       "\n",
       "              movie lenght                                       review title  \\\n",
       "256169   1 hour 41 minutes                              Where's the Passion?    \n",
       "180966   1 hour 43 minutes             McGregor and Diaz are real stars here    \n",
       "59122    1 hour 41 minutes                      It was somewhat confusing...    \n",
       "115708   1 hour 31 minutes                                         Its real!    \n",
       "90487    1 hour 37 minutes   You need to take a distance to appreciate thi...   \n",
       "...                    ...                                                ...   \n",
       "312273  2 hours 52 minutes   I can't believe I watched this movie - it SUC...   \n",
       "244520   1 hour 37 minutes      A hilarious indie film, well worth watching.    \n",
       "241787          12 minutes                            Colorful and Confusing    \n",
       "165326   1 hour 43 minutes                           Definitely different...    \n",
       "145599   1 hour 41 minutes   Very bizarre film that just never sustains in...   \n",
       "\n",
       "                                                   review  label  \\\n",
       "256169  The acting was good and I didn't mind the slow...      4   \n",
       "180966  I'm a big fan of Cameron Diaz, and Ewan McGreg...      8   \n",
       "59122   Groundhog Day, it's a movie we watched in film...      3   \n",
       "115708  In denial of what your kids are doing? Watch t...      8   \n",
       "90487   In regards to previous comments, a few things ...      9   \n",
       "...                                                   ...    ...   \n",
       "312273  Somehow they summed up the 60's, ten years tha...      1   \n",
       "244520  First, a disclaimer.  SLC Punk! isn't for ever...      9   \n",
       "241787  This is another example of a story that has sc...      7   \n",
       "165326  I don't think this is a great movie, but I do ...      6   \n",
       "145599  Will the 'Last Man Standing' also be the last ...      3   \n",
       "\n",
       "        mean of stars  number of reviews  full reviews average stars category  \\\n",
       "256169           7.87                 75                         6.6    Drama   \n",
       "180966           6.99                126                         6.4   Comedy   \n",
       "59122            7.20                147                         8.0   Comedy   \n",
       "115708           5.99                199                         7.1    Drama   \n",
       "90487            6.70                 10                         7.3    Drama   \n",
       "...               ...                ...                         ...      ...   \n",
       "312273           6.97                 29                         7.0    Drama   \n",
       "244520           7.50                113                         7.4   Comedy   \n",
       "241787           7.33                  3                         6.3   Others   \n",
       "165326           7.78                 27                         6.0    Drama   \n",
       "145599           6.20                131                         6.4   Action   \n",
       "\n",
       "        y_label  Prediction  \n",
       "256169        4           4  \n",
       "180966        2           2  \n",
       "59122         2           2  \n",
       "115708        4           4  \n",
       "90487         4           4  \n",
       "...         ...         ...  \n",
       "312273        4           4  \n",
       "244520        2           2  \n",
       "241787        5           3  \n",
       "165326        4           4  \n",
       "145599        0           0  \n",
       "\n",
       "[16038 rows x 13 columns]"
      ]
     },
     "execution_count": 251,
     "metadata": {},
     "output_type": "execute_result"
    }
   ],
   "source": [
    "df_test = movie.iloc[test_index,:]\n",
    "df_test['y_label'] = y_test_num\n",
    "df_test['Prediction'] = predictions\n",
    "\n",
    "df_test"
   ]
  },
  {
   "cell_type": "code",
   "execution_count": 258,
   "metadata": {
    "ExecuteTime": {
     "end_time": "2021-12-17T06:39:54.425734Z",
     "start_time": "2021-12-17T06:39:54.406606Z"
    }
   },
   "outputs": [
    {
     "data": {
      "text/html": [
       "<div>\n",
       "<style scoped>\n",
       "    .dataframe tbody tr th:only-of-type {\n",
       "        vertical-align: middle;\n",
       "    }\n",
       "\n",
       "    .dataframe tbody tr th {\n",
       "        vertical-align: top;\n",
       "    }\n",
       "\n",
       "    .dataframe thead th {\n",
       "        text-align: right;\n",
       "    }\n",
       "</style>\n",
       "<table border=\"1\" class=\"dataframe\">\n",
       "  <thead>\n",
       "    <tr style=\"text-align: right;\">\n",
       "      <th></th>\n",
       "      <th>id number</th>\n",
       "      <th>original title</th>\n",
       "      <th>director/creator</th>\n",
       "      <th>movie lenght</th>\n",
       "      <th>review title</th>\n",
       "      <th>review</th>\n",
       "      <th>label</th>\n",
       "      <th>mean of stars</th>\n",
       "      <th>number of reviews</th>\n",
       "      <th>full reviews average stars</th>\n",
       "      <th>category</th>\n",
       "      <th>y_label</th>\n",
       "      <th>Prediction</th>\n",
       "    </tr>\n",
       "  </thead>\n",
       "  <tbody>\n",
       "    <tr>\n",
       "      <th>151398</th>\n",
       "      <td>151398</td>\n",
       "      <td>Reggie's Prayer</td>\n",
       "      <td>Paul McKellips</td>\n",
       "      <td>1 hour 34 minutes</td>\n",
       "      <td>A Must Watch</td>\n",
       "      <td>A player-turned-coach story with the main char...</td>\n",
       "      <td>9</td>\n",
       "      <td>7.57</td>\n",
       "      <td>7</td>\n",
       "      <td>4.8</td>\n",
       "      <td>Drama</td>\n",
       "      <td>4</td>\n",
       "      <td>0</td>\n",
       "    </tr>\n",
       "  </tbody>\n",
       "</table>\n",
       "</div>"
      ],
      "text/plain": [
       "        id number   original title director/creator       movie lenght  \\\n",
       "151398     151398  Reggie's Prayer   Paul McKellips  1 hour 34 minutes   \n",
       "\n",
       "          review title                                             review  \\\n",
       "151398   A Must Watch   A player-turned-coach story with the main char...   \n",
       "\n",
       "        label  mean of stars  number of reviews  full reviews average stars  \\\n",
       "151398      9           7.57                  7                         4.8   \n",
       "\n",
       "       category  y_label  Prediction  \n",
       "151398    Drama        4           0  "
      ]
     },
     "execution_count": 258,
     "metadata": {},
     "output_type": "execute_result"
    }
   ],
   "source": [
    "incorrect1 = df_test[df_test['y_label'] != df_test['Prediction']].head(1)\n",
    "incorrect1"
   ]
  },
  {
   "cell_type": "code",
   "execution_count": 262,
   "metadata": {
    "ExecuteTime": {
     "end_time": "2021-12-17T06:42:00.371356Z",
     "start_time": "2021-12-17T06:42:00.357878Z"
    }
   },
   "outputs": [
    {
     "name": "stderr",
     "output_type": "stream",
     "text": [
      "<ipython-input-262-9af4d5874abf>:1: FutureWarning: Passing a negative integer is deprecated in version 1.0 and will not be supported in future version. Instead, use None to not limit the column width.\n",
      "  pd.set_option(\"display.max_colwidth\", -1)\n"
     ]
    },
    {
     "data": {
      "text/plain": [
       "151398    A player-turned-coach story with the main character being played by a retired football player gives this film an authentic edge that makes the story line come to life. It's a must-watch for any football fan.\n",
       "Name: review, dtype: object"
      ]
     },
     "execution_count": 262,
     "metadata": {},
     "output_type": "execute_result"
    }
   ],
   "source": [
    "pd.set_option(\"display.max_colwidth\", -1)\n",
    "incorrect1['review']"
   ]
  },
  {
   "cell_type": "code",
   "execution_count": 281,
   "metadata": {
    "ExecuteTime": {
     "end_time": "2021-12-17T07:29:57.449209Z",
     "start_time": "2021-12-17T07:29:57.427115Z"
    }
   },
   "outputs": [
    {
     "data": {
      "text/html": [
       "<div>\n",
       "<style scoped>\n",
       "    .dataframe tbody tr th:only-of-type {\n",
       "        vertical-align: middle;\n",
       "    }\n",
       "\n",
       "    .dataframe tbody tr th {\n",
       "        vertical-align: top;\n",
       "    }\n",
       "\n",
       "    .dataframe thead th {\n",
       "        text-align: right;\n",
       "    }\n",
       "</style>\n",
       "<table border=\"1\" class=\"dataframe\">\n",
       "  <thead>\n",
       "    <tr style=\"text-align: right;\">\n",
       "      <th></th>\n",
       "      <th>id number</th>\n",
       "      <th>original title</th>\n",
       "      <th>director/creator</th>\n",
       "      <th>movie lenght</th>\n",
       "      <th>review title</th>\n",
       "      <th>review</th>\n",
       "      <th>label</th>\n",
       "      <th>mean of stars</th>\n",
       "      <th>number of reviews</th>\n",
       "      <th>full reviews average stars</th>\n",
       "      <th>category</th>\n",
       "      <th>y_label</th>\n",
       "      <th>Prediction</th>\n",
       "    </tr>\n",
       "  </thead>\n",
       "  <tbody>\n",
       "    <tr>\n",
       "      <th>256169</th>\n",
       "      <td>256169</td>\n",
       "      <td>High Art</td>\n",
       "      <td>Lisa Cholodenko</td>\n",
       "      <td>1 hour 41 minutes</td>\n",
       "      <td>Where's the Passion?</td>\n",
       "      <td>The acting was good and I didn't mind the slow build up, but the film was very hard to relate to as it was very dark, missing all happiness. Lots and lots and lots of drugs. I think the part that turned me off the most was when they finally got together, instead of soft passionate love it felt hard and cold. The sex scene was weird and almost made me feel uncomfortable which is not normal for me. I think it was missing that slow softness that most lesbian films have. Or even the lustful eyes or something- it just didn't feel right. And then to make it worse the ending was a real downer. Instead of a fun or enjoyable love story, it felt like the writer/directer was trying to bring out a much deeper meaning to the film. This movie is about brining awareness to the very real struggles people have in their lives and where that road can lead you.</td>\n",
       "      <td>4</td>\n",
       "      <td>7.87</td>\n",
       "      <td>75</td>\n",
       "      <td>6.6</td>\n",
       "      <td>Drama</td>\n",
       "      <td>4</td>\n",
       "      <td>4</td>\n",
       "    </tr>\n",
       "    <tr>\n",
       "      <th>180966</th>\n",
       "      <td>180966</td>\n",
       "      <td>A Life Less Ordinary</td>\n",
       "      <td>Danny Boyle</td>\n",
       "      <td>1 hour 43 minutes</td>\n",
       "      <td>McGregor and Diaz are real stars here</td>\n",
       "      <td>I'm a big fan of Cameron Diaz, and Ewan McGregor caught my attention after his riveting performance in Trainspotting. McGregor is the bumbling kidnapper and Diaz is the victim who seems to know more about kidnapping than he does. All this makes for a really funny comic act from the duo as they progress from kidnapper/victim to lovers, with the help of some angels who live in a seemingly hip heaven. The pace of the movie doesn't let up much, and you find yourself immersed totally as you wait for the ending, which, sadly, could have more of a cliffhanger effect than it has now.</td>\n",
       "      <td>8</td>\n",
       "      <td>6.99</td>\n",
       "      <td>126</td>\n",
       "      <td>6.4</td>\n",
       "      <td>Comedy</td>\n",
       "      <td>2</td>\n",
       "      <td>2</td>\n",
       "    </tr>\n",
       "  </tbody>\n",
       "</table>\n",
       "</div>"
      ],
      "text/plain": [
       "        id number        original title director/creator       movie lenght  \\\n",
       "256169  256169     High Art              Lisa Cholodenko  1 hour 41 minutes   \n",
       "180966  180966     A Life Less Ordinary  Danny Boyle      1 hour 43 minutes   \n",
       "\n",
       "                                   review title  \\\n",
       "256169   Where's the Passion?                     \n",
       "180966   McGregor and Diaz are real stars here    \n",
       "\n",
       "                                                                                                                                                                                                                                                                                                                                                                                                                                                                                                                                                                                                                                                                                                                                                                                                                                                                                       review  \\\n",
       "256169  The acting was good and I didn't mind the slow build up, but the film was very hard to relate to as it was very dark, missing all happiness. Lots and lots and lots of drugs. I think the part that turned me off the most was when they finally got together, instead of soft passionate love it felt hard and cold. The sex scene was weird and almost made me feel uncomfortable which is not normal for me. I think it was missing that slow softness that most lesbian films have. Or even the lustful eyes or something- it just didn't feel right. And then to make it worse the ending was a real downer. Instead of a fun or enjoyable love story, it felt like the writer/directer was trying to bring out a much deeper meaning to the film. This movie is about brining awareness to the very real struggles people have in their lives and where that road can lead you.   \n",
       "180966  I'm a big fan of Cameron Diaz, and Ewan McGregor caught my attention after his riveting performance in Trainspotting. McGregor is the bumbling kidnapper and Diaz is the victim who seems to know more about kidnapping than he does. All this makes for a really funny comic act from the duo as they progress from kidnapper/victim to lovers, with the help of some angels who live in a seemingly hip heaven. The pace of the movie doesn't let up much, and you find yourself immersed totally as you wait for the ending, which, sadly, could have more of a cliffhanger effect than it has now.                                                                                                                                                                                                                                                                                  \n",
       "\n",
       "        label  mean of stars  number of reviews  full reviews average stars  \\\n",
       "256169  4      7.87           75                 6.6                          \n",
       "180966  8      6.99           126                6.4                          \n",
       "\n",
       "       category  y_label  Prediction  \n",
       "256169  Drama    4        4           \n",
       "180966  Comedy   2        2           "
      ]
     },
     "execution_count": 281,
     "metadata": {},
     "output_type": "execute_result"
    }
   ],
   "source": [
    "correct1 = df_test[df_test['y_label'] == df_test['Prediction']].head(2)\n",
    "correct1"
   ]
  },
  {
   "cell_type": "markdown",
   "metadata": {},
   "source": [
    "### RNN"
   ]
  },
  {
   "cell_type": "markdown",
   "metadata": {
    "ExecuteTime": {
     "end_time": "2021-12-17T07:00:06.569962Z",
     "start_time": "2021-12-17T07:00:03.876Z"
    }
   },
   "source": [
    "#### pre_trained"
   ]
  },
  {
   "cell_type": "code",
   "execution_count": 276,
   "metadata": {
    "ExecuteTime": {
     "end_time": "2021-12-17T07:17:54.480354Z",
     "start_time": "2021-12-17T07:17:54.463828Z"
    }
   },
   "outputs": [],
   "source": [
    "def make_multi_classification_rnn_model(plot=False):\n",
    "    model = Sequential()\n",
    "    model.add(Embedding(VOCAB_SIZE, 100, weights=[embedding_matrix], input_length=MAX_SEQUENCE_LENGTH_combined, trainable=False))\n",
    "    model.add(Masking(mask_value=0.0)) # masking layer, masks any words that don't have an embedding as 0s.\n",
    "    model.add(SimpleRNN(units=64, input_shape=(1, MAX_SEQUENCE_LENGTH_combined)))\n",
    "    model.add(Dense(16))\n",
    "    model.add(Dense(6, activation='softmax'))\n",
    "    \n",
    "    # Compile the model\n",
    "    model.compile(\n",
    "    optimizer='adam', loss='categorical_crossentropy', metrics=['accuracy'])\n",
    "    # summarize the model\n",
    "    model.summary()\n",
    "    \n",
    "    if plot:\n",
    "        plot_model(model, to_file='model.png', show_shapes=True)\n",
    "    return model"
   ]
  },
  {
   "cell_type": "code",
   "execution_count": 277,
   "metadata": {
    "ExecuteTime": {
     "end_time": "2021-12-17T07:17:59.828877Z",
     "start_time": "2021-12-17T07:17:59.163506Z"
    }
   },
   "outputs": [
    {
     "name": "stdout",
     "output_type": "stream",
     "text": [
      "Model: \"sequential_21\"\n",
      "_________________________________________________________________\n",
      "Layer (type)                 Output Shape              Param #   \n",
      "=================================================================\n",
      "embedding_21 (Embedding)     (None, 410, 100)          13625000  \n",
      "_________________________________________________________________\n",
      "masking_15 (Masking)         (None, 410, 100)          0         \n",
      "_________________________________________________________________\n",
      "simple_rnn_2 (SimpleRNN)     (None, 64)                10560     \n",
      "_________________________________________________________________\n",
      "dense_30 (Dense)             (None, 16)                1040      \n",
      "_________________________________________________________________\n",
      "dense_31 (Dense)             (None, 6)                 102       \n",
      "=================================================================\n",
      "Total params: 13,636,702\n",
      "Trainable params: 11,702\n",
      "Non-trainable params: 13,625,000\n",
      "_________________________________________________________________\n"
     ]
    }
   ],
   "source": [
    "model_RNN = make_multi_classification_rnn_model()"
   ]
  },
  {
   "cell_type": "code",
   "execution_count": 278,
   "metadata": {
    "ExecuteTime": {
     "end_time": "2021-12-17T07:27:36.638151Z",
     "start_time": "2021-12-17T07:18:04.520302Z"
    }
   },
   "outputs": [
    {
     "name": "stdout",
     "output_type": "stream",
     "text": [
      "Epoch 1/5\n",
      "1354/1354 [==============================] - 116s 85ms/step - loss: 1.6715 - accuracy: 0.3050 - val_loss: 1.4645 - val_accuracy: 0.4100\n",
      "Epoch 2/5\n",
      "1354/1354 [==============================] - 113s 84ms/step - loss: 1.4184 - accuracy: 0.4499 - val_loss: 1.3308 - val_accuracy: 0.4994\n",
      "Epoch 3/5\n",
      "1354/1354 [==============================] - 113s 84ms/step - loss: 1.2701 - accuracy: 0.5256 - val_loss: 1.2579 - val_accuracy: 0.5384\n",
      "Epoch 4/5\n",
      "1354/1354 [==============================] - 115s 85ms/step - loss: 1.1564 - accuracy: 0.5797 - val_loss: 1.1819 - val_accuracy: 0.5713\n",
      "Epoch 5/5\n",
      "1354/1354 [==============================] - 114s 84ms/step - loss: 1.0762 - accuracy: 0.6176 - val_loss: 1.1383 - val_accuracy: 0.5950\n"
     ]
    }
   ],
   "source": [
    "# fit the model\n",
    "history_RNN = model_RNN.fit(X_train, y_train,validation_split = 0.1, epochs=5, verbose=1)"
   ]
  },
  {
   "cell_type": "code",
   "execution_count": 279,
   "metadata": {
    "ExecuteTime": {
     "end_time": "2021-12-17T07:27:55.156131Z",
     "start_time": "2021-12-17T07:27:45.081170Z"
    }
   },
   "outputs": [
    {
     "name": "stdout",
     "output_type": "stream",
     "text": [
      "502/502 [==============================] - 10s 20ms/step - loss: 1.1403 - accuracy: 0.5960\n",
      "Accuracy: 59.602195\n"
     ]
    }
   ],
   "source": [
    "loss, accuracy = model_RNN.evaluate(X_test, y_test, verbose=1)\n",
    "print('Accuracy: %f' % (accuracy*100))"
   ]
  },
  {
   "cell_type": "markdown",
   "metadata": {},
   "source": [
    "#### Self_trained"
   ]
  },
  {
   "cell_type": "code",
   "execution_count": 110,
   "metadata": {
    "ExecuteTime": {
     "end_time": "2021-12-16T05:32:50.692613Z",
     "start_time": "2021-12-16T05:32:50.675347Z"
    }
   },
   "outputs": [],
   "source": [
    "def make_multi_classification_rnn_model(plot=False):\n",
    "    model = Sequential()\n",
    "    model.add(Embedding(VOCAB_SIZE, 300, weights=[embedding_matrix_movie], input_length=MAX_SEQUENCE_LENGTH_combined, trainable=True))\n",
    "    model.add(Masking(mask_value=0.0)) # masking layer, masks any words that don't have an embedding as 0s.\n",
    "    model.add(SimpleRNN(units=64, input_shape=(1, MAX_SEQUENCE_LENGTH_combined)))\n",
    "    model.add(Dense(16))\n",
    "    model.add(Dense(6, activation='softmax'))\n",
    "    \n",
    "    # Compile the model\n",
    "    model.compile(\n",
    "    optimizer='adam', loss='categorical_crossentropy', metrics=['accuracy'])\n",
    "    # summarize the model\n",
    "    model.summary()\n",
    "    \n",
    "    if plot:\n",
    "        plot_model(model, to_file='model.png', show_shapes=True)\n",
    "    return model"
   ]
  },
  {
   "cell_type": "code",
   "execution_count": 111,
   "metadata": {
    "ExecuteTime": {
     "end_time": "2021-12-16T05:32:58.002537Z",
     "start_time": "2021-12-16T05:32:56.933834Z"
    }
   },
   "outputs": [
    {
     "name": "stdout",
     "output_type": "stream",
     "text": [
      "Model: \"sequential_4\"\n",
      "_________________________________________________________________\n",
      "Layer (type)                 Output Shape              Param #   \n",
      "=================================================================\n",
      "embedding_4 (Embedding)      (None, 506, 300)          40875000  \n",
      "_________________________________________________________________\n",
      "masking_2 (Masking)          (None, 506, 300)          0         \n",
      "_________________________________________________________________\n",
      "simple_rnn (SimpleRNN)       (None, 64)                23360     \n",
      "_________________________________________________________________\n",
      "dense_4 (Dense)              (None, 16)                1040      \n",
      "_________________________________________________________________\n",
      "dense_5 (Dense)              (None, 6)                 102       \n",
      "=================================================================\n",
      "Total params: 40,899,502\n",
      "Trainable params: 40,899,502\n",
      "Non-trainable params: 0\n",
      "_________________________________________________________________\n"
     ]
    }
   ],
   "source": [
    "model_RNN = make_multi_classification_rnn_model()"
   ]
  },
  {
   "cell_type": "code",
   "execution_count": 112,
   "metadata": {
    "ExecuteTime": {
     "end_time": "2021-12-16T06:35:33.039347Z",
     "start_time": "2021-12-16T05:33:03.664919Z"
    }
   },
   "outputs": [
    {
     "name": "stdout",
     "output_type": "stream",
     "text": [
      "Epoch 1/5\n",
      "1354/1354 [==============================] - 756s 557ms/step - loss: 1.4828 - accuracy: 0.4363 - val_loss: 0.9621 - val_accuracy: 0.6660\n",
      "Epoch 2/5\n",
      "1354/1354 [==============================] - 765s 565ms/step - loss: 0.7838 - accuracy: 0.7289 - val_loss: 0.8535 - val_accuracy: 0.7099\n",
      "Epoch 3/5\n",
      "1354/1354 [==============================] - 743s 549ms/step - loss: 0.5717 - accuracy: 0.8016 - val_loss: 0.8693 - val_accuracy: 0.7205\n",
      "Epoch 4/5\n",
      "1354/1354 [==============================] - 744s 549ms/step - loss: 0.4496 - accuracy: 0.8440 - val_loss: 0.9303 - val_accuracy: 0.7240\n",
      "Epoch 5/5\n",
      "1354/1354 [==============================] - 742s 548ms/step - loss: 0.3553 - accuracy: 0.8775 - val_loss: 1.0004 - val_accuracy: 0.7244\n"
     ]
    }
   ],
   "source": [
    "# fit the model\n",
    "history_RNN = model_RNN.fit(X_train, y_train,validation_split = 0.1, epochs=5, verbose=1)"
   ]
  },
  {
   "cell_type": "code",
   "execution_count": 113,
   "metadata": {
    "ExecuteTime": {
     "end_time": "2021-12-16T06:37:31.202557Z",
     "start_time": "2021-12-16T06:37:01.196269Z"
    }
   },
   "outputs": [
    {
     "name": "stdout",
     "output_type": "stream",
     "text": [
      "502/502 [==============================] - 30s 59ms/step - loss: 1.0221 - accuracy: 0.7182\n",
      "Accuracy: 71.816933\n"
     ]
    }
   ],
   "source": [
    "loss, accuracy = model_RNN.evaluate(X_test, y_test, verbose=1)\n",
    "print('Accuracy: %f' % (accuracy*100))"
   ]
  },
  {
   "cell_type": "markdown",
   "metadata": {},
   "source": [
    "#### Changing max length"
   ]
  },
  {
   "cell_type": "markdown",
   "metadata": {},
   "source": [
    "Same to the LSTM model, we now try to decrease the max_length and use 3 epochs."
   ]
  },
  {
   "cell_type": "code",
   "execution_count": 242,
   "metadata": {
    "ExecuteTime": {
     "end_time": "2021-12-17T06:21:40.932601Z",
     "start_time": "2021-12-17T06:21:40.926442Z"
    }
   },
   "outputs": [],
   "source": [
    "MAX_SEQUENCE_LENGTH_combined = 410"
   ]
  },
  {
   "cell_type": "code",
   "execution_count": 243,
   "metadata": {
    "ExecuteTime": {
     "end_time": "2021-12-17T06:21:43.426048Z",
     "start_time": "2021-12-17T06:21:43.423096Z"
    }
   },
   "outputs": [],
   "source": [
    "VOCAB_SIZE = 136250"
   ]
  },
  {
   "cell_type": "code",
   "execution_count": 209,
   "metadata": {
    "ExecuteTime": {
     "end_time": "2021-12-17T02:53:00.121847Z",
     "start_time": "2021-12-17T02:53:00.088713Z"
    }
   },
   "outputs": [],
   "source": [
    "def make_multi_classification_rnn_model(plot=False):\n",
    "    model = Sequential()\n",
    "    model.add(Embedding(VOCAB_SIZE, 300, weights=[embedding_matrix_movie], input_length=MAX_SEQUENCE_LENGTH_combined, trainable=True))\n",
    "    model.add(Masking(mask_value=0.0)) # masking layer, masks any words that don't have an embedding as 0s.\n",
    "    model.add(SimpleRNN(units=64, input_shape=(1, MAX_SEQUENCE_LENGTH_combined)))\n",
    "    model.add(Dense(16))\n",
    "    model.add(Dense(6, activation='softmax'))\n",
    "    \n",
    "    # Compile the model\n",
    "    model.compile(\n",
    "    optimizer='adam', loss='categorical_crossentropy', metrics=['accuracy'])\n",
    "    # summarize the model\n",
    "    model.summary()\n",
    "    \n",
    "    if plot:\n",
    "        plot_model(model, to_file='model.png', show_shapes=True)\n",
    "    return model"
   ]
  },
  {
   "cell_type": "code",
   "execution_count": 210,
   "metadata": {
    "ExecuteTime": {
     "end_time": "2021-12-17T03:45:45.545506Z",
     "start_time": "2021-12-17T02:53:20.736435Z"
    }
   },
   "outputs": [
    {
     "name": "stdout",
     "output_type": "stream",
     "text": [
      "Model: \"sequential_17\"\n",
      "_________________________________________________________________\n",
      "Layer (type)                 Output Shape              Param #   \n",
      "=================================================================\n",
      "embedding_17 (Embedding)     (None, 410, 300)          40875000  \n",
      "_________________________________________________________________\n",
      "masking_12 (Masking)         (None, 410, 300)          0         \n",
      "_________________________________________________________________\n",
      "simple_rnn_1 (SimpleRNN)     (None, 64)                23360     \n",
      "_________________________________________________________________\n",
      "dense_24 (Dense)             (None, 16)                1040      \n",
      "_________________________________________________________________\n",
      "dense_25 (Dense)             (None, 6)                 102       \n",
      "=================================================================\n",
      "Total params: 40,899,502\n",
      "Trainable params: 40,899,502\n",
      "Non-trainable params: 0\n",
      "_________________________________________________________________\n",
      "Epoch 1/3\n",
      "1354/1354 [==============================] - 1031s 759ms/step - loss: 1.4389 - accuracy: 0.4470 - val_loss: 0.7174 - val_accuracy: 0.7737\n",
      "Epoch 2/3\n",
      "1354/1354 [==============================] - 1044s 771ms/step - loss: 0.5087 - accuracy: 0.8361 - val_loss: 0.6085 - val_accuracy: 0.8157\n",
      "Epoch 3/3\n",
      "1354/1354 [==============================] - 1067s 788ms/step - loss: 0.2913 - accuracy: 0.9052 - val_loss: 0.6162 - val_accuracy: 0.8292\n"
     ]
    }
   ],
   "source": [
    "model = make_multi_classification_rnn_model()\n",
    "history = model.fit(X_train, y_train,validation_split = 0.1, epochs=3, verbose=1)"
   ]
  },
  {
   "cell_type": "code",
   "execution_count": 211,
   "metadata": {
    "ExecuteTime": {
     "end_time": "2021-12-17T03:49:45.728314Z",
     "start_time": "2021-12-17T03:49:13.963511Z"
    }
   },
   "outputs": [
    {
     "name": "stdout",
     "output_type": "stream",
     "text": [
      "502/502 [==============================] - 32s 63ms/step - loss: 0.6414 - accuracy: 0.8214\n",
      "Accuracy: 82.142413\n"
     ]
    }
   ],
   "source": [
    "loss, accuracy = model.evaluate(X_test, y_test, verbose=1)\n",
    "print('Accuracy: %f' % (accuracy*100))"
   ]
  },
  {
   "cell_type": "code",
   "execution_count": 212,
   "metadata": {
    "ExecuteTime": {
     "end_time": "2021-12-17T03:51:32.419000Z",
     "start_time": "2021-12-17T03:51:03.322381Z"
    }
   },
   "outputs": [],
   "source": [
    "predictions_RNN = np.argmax(model.predict(X_test), axis=-1)\n",
    "y_test_num = [i.tolist().index(1) for i in y_test]"
   ]
  },
  {
   "cell_type": "code",
   "execution_count": 213,
   "metadata": {
    "ExecuteTime": {
     "end_time": "2021-12-17T03:51:37.828403Z",
     "start_time": "2021-12-17T03:51:37.748545Z"
    }
   },
   "outputs": [
    {
     "data": {
      "text/plain": [
       "array([[3079,   41,  123,   40,  119,  107],\n",
       "       [  38,  748,   57,   24,   50,   67],\n",
       "       [ 117,   46, 3409,   57,  183,  166],\n",
       "       [  56,   19,   59, 1072,   86,   51],\n",
       "       [ 142,   33,  240,   57, 2506,  173],\n",
       "       [ 158,   49,  239,   60,  207, 2360]])"
      ]
     },
     "execution_count": 213,
     "metadata": {},
     "output_type": "execute_result"
    }
   ],
   "source": [
    "confusion_matrix(y_test_num, predictions_RNN)"
   ]
  },
  {
   "cell_type": "code",
   "execution_count": 214,
   "metadata": {
    "ExecuteTime": {
     "end_time": "2021-12-17T03:51:59.188493Z",
     "start_time": "2021-12-17T03:51:59.107910Z"
    }
   },
   "outputs": [
    {
     "name": "stdout",
     "output_type": "stream",
     "text": [
      "              precision    recall  f1-score   support\n",
      "\n",
      "           0       0.86      0.88      0.87      3509\n",
      "           1       0.80      0.76      0.78       984\n",
      "           2       0.83      0.86      0.84      3978\n",
      "           3       0.82      0.80      0.81      1343\n",
      "           4       0.80      0.80      0.80      3151\n",
      "           5       0.81      0.77      0.79      3073\n",
      "\n",
      "    accuracy                           0.82     16038\n",
      "   macro avg       0.82      0.81      0.81     16038\n",
      "weighted avg       0.82      0.82      0.82     16038\n",
      "\n"
     ]
    }
   ],
   "source": [
    "print(classification_report(y_test_num, predictions_RNN))"
   ]
  },
  {
   "cell_type": "code",
   "execution_count": 222,
   "metadata": {
    "ExecuteTime": {
     "end_time": "2021-12-17T05:11:57.890087Z",
     "start_time": "2021-12-17T05:11:57.853814Z"
    }
   },
   "outputs": [
    {
     "data": {
      "text/plain": [
       "0.8887212164696237"
      ]
     },
     "execution_count": 222,
     "metadata": {},
     "output_type": "execute_result"
    }
   ],
   "source": [
    "roc_auc_score(to_categorical(encoder.fit_transform(y_test_num)), \n",
    "              to_categorical(encoder.fit_transform(predictions_RNN)), multi_class=\"ovr\", average=\"weighted\")"
   ]
  }
 ],
 "metadata": {
  "kernelspec": {
   "display_name": "Python 3",
   "language": "python",
   "name": "python3"
  },
  "language_info": {
   "codemirror_mode": {
    "name": "ipython",
    "version": 3
   },
   "file_extension": ".py",
   "mimetype": "text/x-python",
   "name": "python",
   "nbconvert_exporter": "python",
   "pygments_lexer": "ipython3",
   "version": "3.8.3"
  },
  "toc": {
   "base_numbering": 1,
   "nav_menu": {},
   "number_sections": true,
   "sideBar": true,
   "skip_h1_title": false,
   "title_cell": "Table of Contents",
   "title_sidebar": "Contents",
   "toc_cell": false,
   "toc_position": {},
   "toc_section_display": true,
   "toc_window_display": false
  },
  "varInspector": {
   "cols": {
    "lenName": 16,
    "lenType": 16,
    "lenVar": 40
   },
   "kernels_config": {
    "python": {
     "delete_cmd_postfix": "",
     "delete_cmd_prefix": "del ",
     "library": "var_list.py",
     "varRefreshCmd": "print(var_dic_list())"
    },
    "r": {
     "delete_cmd_postfix": ") ",
     "delete_cmd_prefix": "rm(",
     "library": "var_list.r",
     "varRefreshCmd": "cat(var_dic_list()) "
    }
   },
   "types_to_exclude": [
    "module",
    "function",
    "builtin_function_or_method",
    "instance",
    "_Feature"
   ],
   "window_display": false
  }
 },
 "nbformat": 4,
 "nbformat_minor": 4
}
